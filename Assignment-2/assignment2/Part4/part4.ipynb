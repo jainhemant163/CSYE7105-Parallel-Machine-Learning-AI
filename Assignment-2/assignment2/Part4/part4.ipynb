{
 "cells": [
  {
   "cell_type": "code",
   "execution_count": 1,
   "metadata": {},
   "outputs": [],
   "source": [
    "import numpy as np"
   ]
  },
  {
   "cell_type": "code",
   "execution_count": 2,
   "metadata": {},
   "outputs": [
    {
     "data": {
      "text/plain": [
       "array([[10.05672981,  9.85403367,  9.8934442 , ..., 10.08305177,\n",
       "         9.96851715,  9.93542352],\n",
       "       [ 9.94075092,  9.95269821, 10.20229967, ..., 10.05211552,\n",
       "        10.12340301,  9.99319486],\n",
       "       [10.00518062, 10.14100514,  9.88922782, ..., 10.09084219,\n",
       "         9.96532059, 10.06396124],\n",
       "       ...,\n",
       "       [10.06061514, 10.10733832, 10.05457414, ...,  9.99900326,\n",
       "        10.01774668, 10.02605638],\n",
       "       [10.06722393, 10.0136125 , 10.09875139, ...,  9.97547125,\n",
       "        10.06405918, 10.1134673 ],\n",
       "       [10.00040618,  9.90973527,  9.94882607, ...,  9.81721421,\n",
       "        10.02116003,  9.96351148]])"
      ]
     },
     "execution_count": 2,
     "metadata": {},
     "output_type": "execute_result"
    }
   ],
   "source": [
    "mu, sigma = 10, 0.1 # mean and standard deviation\n",
    "s = np.random.default_rng().normal(mu, sigma, size=(20000,20000))\n",
    "s"
   ]
  },
  {
   "cell_type": "code",
   "execution_count": 3,
   "metadata": {},
   "outputs": [
    {
     "name": "stdout",
     "output_type": "stream",
     "text": [
      "Wall time: 5.96 ms\n"
     ]
    },
    {
     "data": {
      "text/plain": [
       "array([10.00149472, 10.00378532, 10.00775953, ...,  9.9871711 ,\n",
       "        9.99251958,  9.995388  ])"
      ]
     },
     "execution_count": 3,
     "metadata": {},
     "output_type": "execute_result"
    }
   ],
   "source": [
    "y= s \n",
    "%time z=y[::100,:].mean(axis=0)\n",
    "z"
   ]
  },
  {
   "cell_type": "code",
   "execution_count": 4,
   "metadata": {},
   "outputs": [],
   "source": [
    "#!pip install dask-labextension"
   ]
  },
  {
   "cell_type": "code",
   "execution_count": 5,
   "metadata": {},
   "outputs": [
    {
     "data": {
      "text/html": [
       "<table style=\"border: 2px solid white;\">\n",
       "<tr>\n",
       "<td style=\"vertical-align: top; border: 0px solid white\">\n",
       "<h3 style=\"text-align: left;\">Client</h3>\n",
       "<ul style=\"text-align: left; list-style: none; margin: 0; padding: 0;\">\n",
       "  <li><b>Scheduler: </b>inproc://10.110.229.215/11316/1</li>\n",
       "  <li><b>Dashboard: </b><a href='http://10.110.229.215:8787/status' target='_blank'>http://10.110.229.215:8787/status</a></li>\n",
       "</ul>\n",
       "</td>\n",
       "<td style=\"vertical-align: top; border: 0px solid white\">\n",
       "<h3 style=\"text-align: left;\">Cluster</h3>\n",
       "<ul style=\"text-align: left; list-style:none; margin: 0; padding: 0;\">\n",
       "  <li><b>Workers: </b>1</li>\n",
       "  <li><b>Cores: </b>4</li>\n",
       "  <li><b>Memory: </b>9.00 GB</li>\n",
       "</ul>\n",
       "</td>\n",
       "</tr>\n",
       "</table>"
      ],
      "text/plain": [
       "<Client: 'inproc://10.110.229.215/11316/1' processes=1 threads=4, memory=9.00 GB>"
      ]
     },
     "execution_count": 5,
     "metadata": {},
     "output_type": "execute_result"
    }
   ],
   "source": [
    "# Start Dask Client for Dashboard\n",
    "from dask.distributed import Client, progress\n",
    "client = Client(processes=False, threads_per_worker=4,\n",
    "                n_workers=1, memory_limit='9GB')\n",
    "client"
   ]
  },
  {
   "cell_type": "code",
   "execution_count": 6,
   "metadata": {},
   "outputs": [],
   "source": [
    "import dask.array as da\n",
    "x = da.from_array(s, chunks=(1000,1000))"
   ]
  },
  {
   "cell_type": "code",
   "execution_count": 7,
   "metadata": {},
   "outputs": [
    {
     "data": {
      "text/html": [
       "<table>\n",
       "<tr>\n",
       "<td>\n",
       "<table>\n",
       "  <thead>\n",
       "    <tr><td> </td><th> Array </th><th> Chunk </th></tr>\n",
       "  </thead>\n",
       "  <tbody>\n",
       "    <tr><th> Bytes </th><td> 160.00 kB </td> <td> 8.00 kB </td></tr>\n",
       "    <tr><th> Shape </th><td> (20000,) </td> <td> (1000,) </td></tr>\n",
       "    <tr><th> Count </th><td> 1360 Tasks </td><td> 20 Chunks </td></tr>\n",
       "    <tr><th> Type </th><td> float64 </td><td> numpy.ndarray </td></tr>\n",
       "  </tbody>\n",
       "</table>\n",
       "</td>\n",
       "<td>\n",
       "<svg width=\"170\" height=\"75\" style=\"stroke:rgb(0,0,0);stroke-width:1\" >\n",
       "\n",
       "  <!-- Horizontal lines -->\n",
       "  <line x1=\"0\" y1=\"0\" x2=\"120\" y2=\"0\" style=\"stroke-width:2\" />\n",
       "  <line x1=\"0\" y1=\"25\" x2=\"120\" y2=\"25\" style=\"stroke-width:2\" />\n",
       "\n",
       "  <!-- Vertical lines -->\n",
       "  <line x1=\"0\" y1=\"0\" x2=\"0\" y2=\"25\" style=\"stroke-width:2\" />\n",
       "  <line x1=\"6\" y1=\"0\" x2=\"6\" y2=\"25\" />\n",
       "  <line x1=\"12\" y1=\"0\" x2=\"12\" y2=\"25\" />\n",
       "  <line x1=\"18\" y1=\"0\" x2=\"18\" y2=\"25\" />\n",
       "  <line x1=\"24\" y1=\"0\" x2=\"24\" y2=\"25\" />\n",
       "  <line x1=\"30\" y1=\"0\" x2=\"30\" y2=\"25\" />\n",
       "  <line x1=\"36\" y1=\"0\" x2=\"36\" y2=\"25\" />\n",
       "  <line x1=\"42\" y1=\"0\" x2=\"42\" y2=\"25\" />\n",
       "  <line x1=\"48\" y1=\"0\" x2=\"48\" y2=\"25\" />\n",
       "  <line x1=\"54\" y1=\"0\" x2=\"54\" y2=\"25\" />\n",
       "  <line x1=\"60\" y1=\"0\" x2=\"60\" y2=\"25\" />\n",
       "  <line x1=\"66\" y1=\"0\" x2=\"66\" y2=\"25\" />\n",
       "  <line x1=\"72\" y1=\"0\" x2=\"72\" y2=\"25\" />\n",
       "  <line x1=\"78\" y1=\"0\" x2=\"78\" y2=\"25\" />\n",
       "  <line x1=\"84\" y1=\"0\" x2=\"84\" y2=\"25\" />\n",
       "  <line x1=\"90\" y1=\"0\" x2=\"90\" y2=\"25\" />\n",
       "  <line x1=\"96\" y1=\"0\" x2=\"96\" y2=\"25\" />\n",
       "  <line x1=\"102\" y1=\"0\" x2=\"102\" y2=\"25\" />\n",
       "  <line x1=\"108\" y1=\"0\" x2=\"108\" y2=\"25\" />\n",
       "  <line x1=\"120\" y1=\"0\" x2=\"120\" y2=\"25\" style=\"stroke-width:2\" />\n",
       "\n",
       "  <!-- Colored Rectangle -->\n",
       "  <polygon points=\"0.0,0.0 120.0,0.0 120.0,25.412616514582485 0.0,25.412616514582485\" style=\"fill:#8B4903A0;stroke-width:0\"/>\n",
       "\n",
       "  <!-- Text -->\n",
       "  <text x=\"60.000000\" y=\"45.412617\" font-size=\"1.0rem\" font-weight=\"100\" text-anchor=\"middle\" >20000</text>\n",
       "  <text x=\"140.000000\" y=\"12.706308\" font-size=\"1.0rem\" font-weight=\"100\" text-anchor=\"middle\" transform=\"rotate(0,140.000000,12.706308)\">1</text>\n",
       "</svg>\n",
       "</td>\n",
       "</tr>\n",
       "</table>"
      ],
      "text/plain": [
       "dask.array<mean_agg-aggregate, shape=(20000,), dtype=float64, chunksize=(1000,), chunktype=numpy.ndarray>"
      ]
     },
     "execution_count": 7,
     "metadata": {},
     "output_type": "execute_result"
    }
   ],
   "source": [
    "y= x \n",
    "z=y[::100,:].mean(axis=0)\n",
    "z"
   ]
  },
  {
   "cell_type": "code",
   "execution_count": 8,
   "metadata": {},
   "outputs": [
    {
     "name": "stderr",
     "output_type": "stream",
     "text": [
      "distributed.worker - WARNING - Memory use is high but worker has no data to store to disk.  Perhaps some other process is leaking memory?  Process memory: 6.49 GB -- Worker memory limit: 9.00 GB\n",
      "distributed.worker - WARNING - Memory use is high but worker has no data to store to disk.  Perhaps some other process is leaking memory?  Process memory: 6.54 GB -- Worker memory limit: 9.00 GB\n",
      "distributed.worker - WARNING - Worker is at 108% memory usage. Pausing worker.  Process memory: 9.75 GB -- Worker memory limit: 9.00 GB\n",
      "distributed.worker - WARNING - Memory use is high but worker has no data to store to disk.  Perhaps some other process is leaking memory?  Process memory: 9.75 GB -- Worker memory limit: 9.00 GB\n",
      "distributed.worker - WARNING - Worker is at 13% memory usage. Resuming worker. Process memory: 1.20 GB -- Worker memory limit: 9.00 GB\n"
     ]
    },
    {
     "data": {
      "text/plain": [
       "array([10.00149472, 10.00378532, 10.00775953, ...,  9.9871711 ,\n",
       "        9.99251958,  9.995388  ])"
      ]
     },
     "execution_count": 8,
     "metadata": {},
     "output_type": "execute_result"
    }
   ],
   "source": [
    "z.compute()\n"
   ]
  },
  {
   "cell_type": "code",
   "execution_count": null,
   "metadata": {},
   "outputs": [
    {
     "name": "stdout",
     "output_type": "stream",
     "text": [
      "Wall time: 0 ns\n"
     ]
    },
    {
     "name": "stderr",
     "output_type": "stream",
     "text": [
      "distributed.worker - WARNING - Memory use is high but worker has no data to store to disk.  Perhaps some other process is leaking memory?  Process memory: 6.46 GB -- Worker memory limit: 9.00 GB\n",
      "distributed.worker - WARNING - Worker is at 108% memory usage. Pausing worker.  Process memory: 9.73 GB -- Worker memory limit: 9.00 GB\n",
      "distributed.worker - WARNING - Memory use is high but worker has no data to store to disk.  Perhaps some other process is leaking memory?  Process memory: 9.73 GB -- Worker memory limit: 9.00 GB\n",
      "distributed.worker - WARNING - Memory use is high but worker has no data to store to disk.  Perhaps some other process is leaking memory?  Process memory: 11.40 GB -- Worker memory limit: 9.00 GB\n",
      "distributed.worker - WARNING - Memory use is high but worker has no data to store to disk.  Perhaps some other process is leaking memory?  Process memory: 7.88 GB -- Worker memory limit: 9.00 GB\n",
      "distributed.worker - WARNING - Memory use is high but worker has no data to store to disk.  Perhaps some other process is leaking memory?  Process memory: 7.88 GB -- Worker memory limit: 9.00 GB\n",
      "distributed.worker - WARNING - Memory use is high but worker has no data to store to disk.  Perhaps some other process is leaking memory?  Process memory: 7.88 GB -- Worker memory limit: 9.00 GB\n",
      "distributed.worker - WARNING - Memory use is high but worker has no data to store to disk.  Perhaps some other process is leaking memory?  Process memory: 7.88 GB -- Worker memory limit: 9.00 GB\n",
      "distributed.worker - WARNING - Memory use is high but worker has no data to store to disk.  Perhaps some other process is leaking memory?  Process memory: 7.88 GB -- Worker memory limit: 9.00 GB\n",
      "distributed.worker - WARNING - Memory use is high but worker has no data to store to disk.  Perhaps some other process is leaking memory?  Process memory: 7.88 GB -- Worker memory limit: 9.00 GB\n",
      "distributed.worker - WARNING - Memory use is high but worker has no data to store to disk.  Perhaps some other process is leaking memory?  Process memory: 7.88 GB -- Worker memory limit: 9.00 GB\n",
      "distributed.worker - WARNING - Memory use is high but worker has no data to store to disk.  Perhaps some other process is leaking memory?  Process memory: 7.88 GB -- Worker memory limit: 9.00 GB\n",
      "distributed.worker - WARNING - Memory use is high but worker has no data to store to disk.  Perhaps some other process is leaking memory?  Process memory: 7.88 GB -- Worker memory limit: 9.00 GB\n",
      "distributed.worker - WARNING - Memory use is high but worker has no data to store to disk.  Perhaps some other process is leaking memory?  Process memory: 7.88 GB -- Worker memory limit: 9.00 GB\n",
      "distributed.worker - WARNING - Memory use is high but worker has no data to store to disk.  Perhaps some other process is leaking memory?  Process memory: 7.88 GB -- Worker memory limit: 9.00 GB\n",
      "distributed.worker - WARNING - Memory use is high but worker has no data to store to disk.  Perhaps some other process is leaking memory?  Process memory: 7.88 GB -- Worker memory limit: 9.00 GB\n",
      "distributed.worker - WARNING - Memory use is high but worker has no data to store to disk.  Perhaps some other process is leaking memory?  Process memory: 7.88 GB -- Worker memory limit: 9.00 GB\n",
      "distributed.worker - WARNING - Memory use is high but worker has no data to store to disk.  Perhaps some other process is leaking memory?  Process memory: 7.88 GB -- Worker memory limit: 9.00 GB\n",
      "distributed.worker - WARNING - Memory use is high but worker has no data to store to disk.  Perhaps some other process is leaking memory?  Process memory: 7.88 GB -- Worker memory limit: 9.00 GB\n",
      "distributed.worker - WARNING - Memory use is high but worker has no data to store to disk.  Perhaps some other process is leaking memory?  Process memory: 7.88 GB -- Worker memory limit: 9.00 GB\n",
      "distributed.worker - WARNING - Memory use is high but worker has no data to store to disk.  Perhaps some other process is leaking memory?  Process memory: 7.88 GB -- Worker memory limit: 9.00 GB\n",
      "distributed.worker - WARNING - Memory use is high but worker has no data to store to disk.  Perhaps some other process is leaking memory?  Process memory: 7.88 GB -- Worker memory limit: 9.00 GB\n",
      "distributed.worker - WARNING - Memory use is high but worker has no data to store to disk.  Perhaps some other process is leaking memory?  Process memory: 7.88 GB -- Worker memory limit: 9.00 GB\n",
      "distributed.worker - WARNING - Memory use is high but worker has no data to store to disk.  Perhaps some other process is leaking memory?  Process memory: 7.88 GB -- Worker memory limit: 9.00 GB\n",
      "distributed.worker - WARNING - Memory use is high but worker has no data to store to disk.  Perhaps some other process is leaking memory?  Process memory: 7.88 GB -- Worker memory limit: 9.00 GB\n",
      "distributed.worker - WARNING - Memory use is high but worker has no data to store to disk.  Perhaps some other process is leaking memory?  Process memory: 7.88 GB -- Worker memory limit: 9.00 GB\n",
      "distributed.worker - WARNING - Memory use is high but worker has no data to store to disk.  Perhaps some other process is leaking memory?  Process memory: 7.88 GB -- Worker memory limit: 9.00 GB\n",
      "distributed.worker - WARNING - Memory use is high but worker has no data to store to disk.  Perhaps some other process is leaking memory?  Process memory: 7.88 GB -- Worker memory limit: 9.00 GB\n",
      "distributed.worker - WARNING - Memory use is high but worker has no data to store to disk.  Perhaps some other process is leaking memory?  Process memory: 7.88 GB -- Worker memory limit: 9.00 GB\n",
      "distributed.worker - WARNING - Memory use is high but worker has no data to store to disk.  Perhaps some other process is leaking memory?  Process memory: 7.88 GB -- Worker memory limit: 9.00 GB\n",
      "distributed.worker - WARNING - Memory use is high but worker has no data to store to disk.  Perhaps some other process is leaking memory?  Process memory: 7.88 GB -- Worker memory limit: 9.00 GB\n",
      "distributed.worker - WARNING - Memory use is high but worker has no data to store to disk.  Perhaps some other process is leaking memory?  Process memory: 7.88 GB -- Worker memory limit: 9.00 GB\n",
      "distributed.worker - WARNING - Memory use is high but worker has no data to store to disk.  Perhaps some other process is leaking memory?  Process memory: 7.88 GB -- Worker memory limit: 9.00 GB\n",
      "distributed.worker - WARNING - Memory use is high but worker has no data to store to disk.  Perhaps some other process is leaking memory?  Process memory: 7.88 GB -- Worker memory limit: 9.00 GB\n",
      "distributed.worker - WARNING - Memory use is high but worker has no data to store to disk.  Perhaps some other process is leaking memory?  Process memory: 7.88 GB -- Worker memory limit: 9.00 GB\n",
      "distributed.worker - WARNING - Memory use is high but worker has no data to store to disk.  Perhaps some other process is leaking memory?  Process memory: 7.88 GB -- Worker memory limit: 9.00 GB\n",
      "distributed.worker - WARNING - Memory use is high but worker has no data to store to disk.  Perhaps some other process is leaking memory?  Process memory: 7.88 GB -- Worker memory limit: 9.00 GB\n",
      "distributed.worker - WARNING - Memory use is high but worker has no data to store to disk.  Perhaps some other process is leaking memory?  Process memory: 7.88 GB -- Worker memory limit: 9.00 GB\n",
      "distributed.worker - WARNING - Memory use is high but worker has no data to store to disk.  Perhaps some other process is leaking memory?  Process memory: 7.88 GB -- Worker memory limit: 9.00 GB\n",
      "distributed.worker - WARNING - Memory use is high but worker has no data to store to disk.  Perhaps some other process is leaking memory?  Process memory: 7.88 GB -- Worker memory limit: 9.00 GB\n",
      "distributed.worker - WARNING - Memory use is high but worker has no data to store to disk.  Perhaps some other process is leaking memory?  Process memory: 7.88 GB -- Worker memory limit: 9.00 GB\n",
      "distributed.worker - WARNING - Memory use is high but worker has no data to store to disk.  Perhaps some other process is leaking memory?  Process memory: 7.88 GB -- Worker memory limit: 9.00 GB\n",
      "distributed.worker - WARNING - Memory use is high but worker has no data to store to disk.  Perhaps some other process is leaking memory?  Process memory: 7.88 GB -- Worker memory limit: 9.00 GB\n"
     ]
    },
    {
     "name": "stderr",
     "output_type": "stream",
     "text": [
      "distributed.worker - WARNING - Memory use is high but worker has no data to store to disk.  Perhaps some other process is leaking memory?  Process memory: 7.88 GB -- Worker memory limit: 9.00 GB\n",
      "distributed.worker - WARNING - Memory use is high but worker has no data to store to disk.  Perhaps some other process is leaking memory?  Process memory: 7.88 GB -- Worker memory limit: 9.00 GB\n",
      "distributed.worker - WARNING - Memory use is high but worker has no data to store to disk.  Perhaps some other process is leaking memory?  Process memory: 7.88 GB -- Worker memory limit: 9.00 GB\n",
      "distributed.worker - WARNING - Memory use is high but worker has no data to store to disk.  Perhaps some other process is leaking memory?  Process memory: 7.88 GB -- Worker memory limit: 9.00 GB\n",
      "distributed.worker - WARNING - Memory use is high but worker has no data to store to disk.  Perhaps some other process is leaking memory?  Process memory: 7.88 GB -- Worker memory limit: 9.00 GB\n",
      "distributed.worker - WARNING - Memory use is high but worker has no data to store to disk.  Perhaps some other process is leaking memory?  Process memory: 7.88 GB -- Worker memory limit: 9.00 GB\n",
      "distributed.worker - WARNING - Memory use is high but worker has no data to store to disk.  Perhaps some other process is leaking memory?  Process memory: 7.88 GB -- Worker memory limit: 9.00 GB\n",
      "distributed.worker - WARNING - Memory use is high but worker has no data to store to disk.  Perhaps some other process is leaking memory?  Process memory: 7.88 GB -- Worker memory limit: 9.00 GB\n",
      "distributed.worker - WARNING - Memory use is high but worker has no data to store to disk.  Perhaps some other process is leaking memory?  Process memory: 7.88 GB -- Worker memory limit: 9.00 GB\n",
      "distributed.worker - WARNING - Memory use is high but worker has no data to store to disk.  Perhaps some other process is leaking memory?  Process memory: 7.88 GB -- Worker memory limit: 9.00 GB\n",
      "distributed.worker - WARNING - Memory use is high but worker has no data to store to disk.  Perhaps some other process is leaking memory?  Process memory: 7.88 GB -- Worker memory limit: 9.00 GB\n",
      "distributed.worker - WARNING - Memory use is high but worker has no data to store to disk.  Perhaps some other process is leaking memory?  Process memory: 7.88 GB -- Worker memory limit: 9.00 GB\n",
      "distributed.worker - WARNING - Memory use is high but worker has no data to store to disk.  Perhaps some other process is leaking memory?  Process memory: 7.88 GB -- Worker memory limit: 9.00 GB\n",
      "distributed.worker - WARNING - Memory use is high but worker has no data to store to disk.  Perhaps some other process is leaking memory?  Process memory: 7.88 GB -- Worker memory limit: 9.00 GB\n",
      "distributed.worker - WARNING - Memory use is high but worker has no data to store to disk.  Perhaps some other process is leaking memory?  Process memory: 7.88 GB -- Worker memory limit: 9.00 GB\n",
      "distributed.worker - WARNING - Memory use is high but worker has no data to store to disk.  Perhaps some other process is leaking memory?  Process memory: 7.88 GB -- Worker memory limit: 9.00 GB\n",
      "distributed.worker - WARNING - Memory use is high but worker has no data to store to disk.  Perhaps some other process is leaking memory?  Process memory: 7.88 GB -- Worker memory limit: 9.00 GB\n",
      "distributed.worker - WARNING - Memory use is high but worker has no data to store to disk.  Perhaps some other process is leaking memory?  Process memory: 7.88 GB -- Worker memory limit: 9.00 GB\n",
      "distributed.worker - WARNING - Memory use is high but worker has no data to store to disk.  Perhaps some other process is leaking memory?  Process memory: 7.88 GB -- Worker memory limit: 9.00 GB\n",
      "distributed.worker - WARNING - Memory use is high but worker has no data to store to disk.  Perhaps some other process is leaking memory?  Process memory: 7.88 GB -- Worker memory limit: 9.00 GB\n",
      "distributed.worker - WARNING - Memory use is high but worker has no data to store to disk.  Perhaps some other process is leaking memory?  Process memory: 7.88 GB -- Worker memory limit: 9.00 GB\n",
      "distributed.worker - WARNING - Memory use is high but worker has no data to store to disk.  Perhaps some other process is leaking memory?  Process memory: 7.88 GB -- Worker memory limit: 9.00 GB\n",
      "distributed.worker - WARNING - Memory use is high but worker has no data to store to disk.  Perhaps some other process is leaking memory?  Process memory: 7.88 GB -- Worker memory limit: 9.00 GB\n",
      "distributed.worker - WARNING - Memory use is high but worker has no data to store to disk.  Perhaps some other process is leaking memory?  Process memory: 7.88 GB -- Worker memory limit: 9.00 GB\n",
      "distributed.worker - WARNING - Memory use is high but worker has no data to store to disk.  Perhaps some other process is leaking memory?  Process memory: 7.88 GB -- Worker memory limit: 9.00 GB\n",
      "distributed.worker - WARNING - Memory use is high but worker has no data to store to disk.  Perhaps some other process is leaking memory?  Process memory: 7.88 GB -- Worker memory limit: 9.00 GB\n",
      "distributed.worker - WARNING - Memory use is high but worker has no data to store to disk.  Perhaps some other process is leaking memory?  Process memory: 7.88 GB -- Worker memory limit: 9.00 GB\n",
      "distributed.worker - WARNING - Memory use is high but worker has no data to store to disk.  Perhaps some other process is leaking memory?  Process memory: 7.88 GB -- Worker memory limit: 9.00 GB\n",
      "distributed.worker - WARNING - Memory use is high but worker has no data to store to disk.  Perhaps some other process is leaking memory?  Process memory: 7.88 GB -- Worker memory limit: 9.00 GB\n",
      "distributed.worker - WARNING - Memory use is high but worker has no data to store to disk.  Perhaps some other process is leaking memory?  Process memory: 7.88 GB -- Worker memory limit: 9.00 GB\n",
      "distributed.worker - WARNING - Memory use is high but worker has no data to store to disk.  Perhaps some other process is leaking memory?  Process memory: 7.88 GB -- Worker memory limit: 9.00 GB\n",
      "distributed.worker - WARNING - Memory use is high but worker has no data to store to disk.  Perhaps some other process is leaking memory?  Process memory: 7.88 GB -- Worker memory limit: 9.00 GB\n",
      "distributed.worker - WARNING - Memory use is high but worker has no data to store to disk.  Perhaps some other process is leaking memory?  Process memory: 7.88 GB -- Worker memory limit: 9.00 GB\n",
      "distributed.worker - WARNING - Memory use is high but worker has no data to store to disk.  Perhaps some other process is leaking memory?  Process memory: 7.88 GB -- Worker memory limit: 9.00 GB\n",
      "distributed.worker - WARNING - Memory use is high but worker has no data to store to disk.  Perhaps some other process is leaking memory?  Process memory: 7.88 GB -- Worker memory limit: 9.00 GB\n",
      "distributed.worker - WARNING - Memory use is high but worker has no data to store to disk.  Perhaps some other process is leaking memory?  Process memory: 7.88 GB -- Worker memory limit: 9.00 GB\n",
      "distributed.worker - WARNING - Memory use is high but worker has no data to store to disk.  Perhaps some other process is leaking memory?  Process memory: 7.88 GB -- Worker memory limit: 9.00 GB\n",
      "distributed.worker - WARNING - Memory use is high but worker has no data to store to disk.  Perhaps some other process is leaking memory?  Process memory: 7.88 GB -- Worker memory limit: 9.00 GB\n",
      "distributed.worker - WARNING - Memory use is high but worker has no data to store to disk.  Perhaps some other process is leaking memory?  Process memory: 7.88 GB -- Worker memory limit: 9.00 GB\n",
      "distributed.worker - WARNING - Memory use is high but worker has no data to store to disk.  Perhaps some other process is leaking memory?  Process memory: 7.88 GB -- Worker memory limit: 9.00 GB\n",
      "distributed.worker - WARNING - Memory use is high but worker has no data to store to disk.  Perhaps some other process is leaking memory?  Process memory: 7.88 GB -- Worker memory limit: 9.00 GB\n",
      "distributed.worker - WARNING - Memory use is high but worker has no data to store to disk.  Perhaps some other process is leaking memory?  Process memory: 7.88 GB -- Worker memory limit: 9.00 GB\n",
      "distributed.worker - WARNING - Memory use is high but worker has no data to store to disk.  Perhaps some other process is leaking memory?  Process memory: 7.88 GB -- Worker memory limit: 9.00 GB\n"
     ]
    },
    {
     "name": "stderr",
     "output_type": "stream",
     "text": [
      "distributed.worker - WARNING - Memory use is high but worker has no data to store to disk.  Perhaps some other process is leaking memory?  Process memory: 7.88 GB -- Worker memory limit: 9.00 GB\n",
      "distributed.worker - WARNING - Memory use is high but worker has no data to store to disk.  Perhaps some other process is leaking memory?  Process memory: 7.88 GB -- Worker memory limit: 9.00 GB\n",
      "distributed.worker - WARNING - Memory use is high but worker has no data to store to disk.  Perhaps some other process is leaking memory?  Process memory: 7.88 GB -- Worker memory limit: 9.00 GB\n",
      "distributed.worker - WARNING - Memory use is high but worker has no data to store to disk.  Perhaps some other process is leaking memory?  Process memory: 7.88 GB -- Worker memory limit: 9.00 GB\n",
      "distributed.worker - WARNING - Memory use is high but worker has no data to store to disk.  Perhaps some other process is leaking memory?  Process memory: 7.88 GB -- Worker memory limit: 9.00 GB\n",
      "distributed.worker - WARNING - Memory use is high but worker has no data to store to disk.  Perhaps some other process is leaking memory?  Process memory: 7.88 GB -- Worker memory limit: 9.00 GB\n",
      "distributed.worker - WARNING - Memory use is high but worker has no data to store to disk.  Perhaps some other process is leaking memory?  Process memory: 7.88 GB -- Worker memory limit: 9.00 GB\n",
      "distributed.worker - WARNING - Memory use is high but worker has no data to store to disk.  Perhaps some other process is leaking memory?  Process memory: 7.88 GB -- Worker memory limit: 9.00 GB\n",
      "distributed.worker - WARNING - Memory use is high but worker has no data to store to disk.  Perhaps some other process is leaking memory?  Process memory: 7.88 GB -- Worker memory limit: 9.00 GB\n",
      "distributed.worker - WARNING - Memory use is high but worker has no data to store to disk.  Perhaps some other process is leaking memory?  Process memory: 7.88 GB -- Worker memory limit: 9.00 GB\n",
      "distributed.worker - WARNING - Memory use is high but worker has no data to store to disk.  Perhaps some other process is leaking memory?  Process memory: 7.88 GB -- Worker memory limit: 9.00 GB\n",
      "distributed.worker - WARNING - Memory use is high but worker has no data to store to disk.  Perhaps some other process is leaking memory?  Process memory: 7.88 GB -- Worker memory limit: 9.00 GB\n",
      "distributed.worker - WARNING - Memory use is high but worker has no data to store to disk.  Perhaps some other process is leaking memory?  Process memory: 7.88 GB -- Worker memory limit: 9.00 GB\n",
      "distributed.worker - WARNING - Memory use is high but worker has no data to store to disk.  Perhaps some other process is leaking memory?  Process memory: 7.88 GB -- Worker memory limit: 9.00 GB\n",
      "distributed.worker - WARNING - Memory use is high but worker has no data to store to disk.  Perhaps some other process is leaking memory?  Process memory: 7.88 GB -- Worker memory limit: 9.00 GB\n",
      "distributed.worker - WARNING - Memory use is high but worker has no data to store to disk.  Perhaps some other process is leaking memory?  Process memory: 7.88 GB -- Worker memory limit: 9.00 GB\n",
      "distributed.worker - WARNING - Memory use is high but worker has no data to store to disk.  Perhaps some other process is leaking memory?  Process memory: 7.88 GB -- Worker memory limit: 9.00 GB\n",
      "distributed.worker - WARNING - Memory use is high but worker has no data to store to disk.  Perhaps some other process is leaking memory?  Process memory: 7.88 GB -- Worker memory limit: 9.00 GB\n",
      "distributed.worker - WARNING - Memory use is high but worker has no data to store to disk.  Perhaps some other process is leaking memory?  Process memory: 7.88 GB -- Worker memory limit: 9.00 GB\n",
      "distributed.worker - WARNING - Memory use is high but worker has no data to store to disk.  Perhaps some other process is leaking memory?  Process memory: 7.88 GB -- Worker memory limit: 9.00 GB\n",
      "distributed.worker - WARNING - Memory use is high but worker has no data to store to disk.  Perhaps some other process is leaking memory?  Process memory: 7.88 GB -- Worker memory limit: 9.00 GB\n",
      "distributed.worker - WARNING - Memory use is high but worker has no data to store to disk.  Perhaps some other process is leaking memory?  Process memory: 7.88 GB -- Worker memory limit: 9.00 GB\n",
      "distributed.worker - WARNING - Memory use is high but worker has no data to store to disk.  Perhaps some other process is leaking memory?  Process memory: 7.88 GB -- Worker memory limit: 9.00 GB\n",
      "distributed.worker - WARNING - Memory use is high but worker has no data to store to disk.  Perhaps some other process is leaking memory?  Process memory: 7.88 GB -- Worker memory limit: 9.00 GB\n",
      "distributed.worker - WARNING - Memory use is high but worker has no data to store to disk.  Perhaps some other process is leaking memory?  Process memory: 7.88 GB -- Worker memory limit: 9.00 GB\n",
      "distributed.worker - WARNING - Memory use is high but worker has no data to store to disk.  Perhaps some other process is leaking memory?  Process memory: 7.88 GB -- Worker memory limit: 9.00 GB\n",
      "distributed.worker - WARNING - Memory use is high but worker has no data to store to disk.  Perhaps some other process is leaking memory?  Process memory: 7.88 GB -- Worker memory limit: 9.00 GB\n",
      "distributed.worker - WARNING - Memory use is high but worker has no data to store to disk.  Perhaps some other process is leaking memory?  Process memory: 7.88 GB -- Worker memory limit: 9.00 GB\n",
      "distributed.worker - WARNING - Memory use is high but worker has no data to store to disk.  Perhaps some other process is leaking memory?  Process memory: 7.88 GB -- Worker memory limit: 9.00 GB\n",
      "distributed.worker - WARNING - Memory use is high but worker has no data to store to disk.  Perhaps some other process is leaking memory?  Process memory: 7.88 GB -- Worker memory limit: 9.00 GB\n",
      "distributed.worker - WARNING - Memory use is high but worker has no data to store to disk.  Perhaps some other process is leaking memory?  Process memory: 7.88 GB -- Worker memory limit: 9.00 GB\n",
      "distributed.worker - WARNING - Memory use is high but worker has no data to store to disk.  Perhaps some other process is leaking memory?  Process memory: 7.88 GB -- Worker memory limit: 9.00 GB\n",
      "distributed.worker - WARNING - Memory use is high but worker has no data to store to disk.  Perhaps some other process is leaking memory?  Process memory: 7.88 GB -- Worker memory limit: 9.00 GB\n",
      "distributed.worker - WARNING - Memory use is high but worker has no data to store to disk.  Perhaps some other process is leaking memory?  Process memory: 7.88 GB -- Worker memory limit: 9.00 GB\n",
      "distributed.worker - WARNING - Memory use is high but worker has no data to store to disk.  Perhaps some other process is leaking memory?  Process memory: 7.88 GB -- Worker memory limit: 9.00 GB\n",
      "distributed.worker - WARNING - Memory use is high but worker has no data to store to disk.  Perhaps some other process is leaking memory?  Process memory: 7.88 GB -- Worker memory limit: 9.00 GB\n",
      "distributed.worker - WARNING - Memory use is high but worker has no data to store to disk.  Perhaps some other process is leaking memory?  Process memory: 7.88 GB -- Worker memory limit: 9.00 GB\n",
      "distributed.worker - WARNING - Memory use is high but worker has no data to store to disk.  Perhaps some other process is leaking memory?  Process memory: 7.88 GB -- Worker memory limit: 9.00 GB\n",
      "distributed.worker - WARNING - Memory use is high but worker has no data to store to disk.  Perhaps some other process is leaking memory?  Process memory: 7.88 GB -- Worker memory limit: 9.00 GB\n",
      "distributed.worker - WARNING - Memory use is high but worker has no data to store to disk.  Perhaps some other process is leaking memory?  Process memory: 7.88 GB -- Worker memory limit: 9.00 GB\n",
      "distributed.worker - WARNING - Memory use is high but worker has no data to store to disk.  Perhaps some other process is leaking memory?  Process memory: 7.88 GB -- Worker memory limit: 9.00 GB\n",
      "distributed.worker - WARNING - Memory use is high but worker has no data to store to disk.  Perhaps some other process is leaking memory?  Process memory: 7.88 GB -- Worker memory limit: 9.00 GB\n",
      "distributed.worker - WARNING - Memory use is high but worker has no data to store to disk.  Perhaps some other process is leaking memory?  Process memory: 7.88 GB -- Worker memory limit: 9.00 GB\n"
     ]
    },
    {
     "name": "stderr",
     "output_type": "stream",
     "text": [
      "distributed.worker - WARNING - Memory use is high but worker has no data to store to disk.  Perhaps some other process is leaking memory?  Process memory: 7.88 GB -- Worker memory limit: 9.00 GB\n",
      "distributed.worker - WARNING - Memory use is high but worker has no data to store to disk.  Perhaps some other process is leaking memory?  Process memory: 7.88 GB -- Worker memory limit: 9.00 GB\n",
      "distributed.worker - WARNING - Memory use is high but worker has no data to store to disk.  Perhaps some other process is leaking memory?  Process memory: 7.88 GB -- Worker memory limit: 9.00 GB\n",
      "distributed.worker - WARNING - Memory use is high but worker has no data to store to disk.  Perhaps some other process is leaking memory?  Process memory: 7.88 GB -- Worker memory limit: 9.00 GB\n",
      "distributed.worker - WARNING - Memory use is high but worker has no data to store to disk.  Perhaps some other process is leaking memory?  Process memory: 7.88 GB -- Worker memory limit: 9.00 GB\n",
      "distributed.worker - WARNING - Memory use is high but worker has no data to store to disk.  Perhaps some other process is leaking memory?  Process memory: 7.88 GB -- Worker memory limit: 9.00 GB\n",
      "distributed.worker - WARNING - Memory use is high but worker has no data to store to disk.  Perhaps some other process is leaking memory?  Process memory: 7.88 GB -- Worker memory limit: 9.00 GB\n",
      "distributed.worker - WARNING - Memory use is high but worker has no data to store to disk.  Perhaps some other process is leaking memory?  Process memory: 7.88 GB -- Worker memory limit: 9.00 GB\n",
      "distributed.worker - WARNING - Memory use is high but worker has no data to store to disk.  Perhaps some other process is leaking memory?  Process memory: 7.88 GB -- Worker memory limit: 9.00 GB\n",
      "distributed.worker - WARNING - Memory use is high but worker has no data to store to disk.  Perhaps some other process is leaking memory?  Process memory: 7.88 GB -- Worker memory limit: 9.00 GB\n",
      "distributed.worker - WARNING - Memory use is high but worker has no data to store to disk.  Perhaps some other process is leaking memory?  Process memory: 7.88 GB -- Worker memory limit: 9.00 GB\n",
      "distributed.worker - WARNING - Memory use is high but worker has no data to store to disk.  Perhaps some other process is leaking memory?  Process memory: 7.88 GB -- Worker memory limit: 9.00 GB\n",
      "distributed.worker - WARNING - Memory use is high but worker has no data to store to disk.  Perhaps some other process is leaking memory?  Process memory: 7.88 GB -- Worker memory limit: 9.00 GB\n",
      "distributed.worker - WARNING - Memory use is high but worker has no data to store to disk.  Perhaps some other process is leaking memory?  Process memory: 7.88 GB -- Worker memory limit: 9.00 GB\n",
      "distributed.worker - WARNING - Memory use is high but worker has no data to store to disk.  Perhaps some other process is leaking memory?  Process memory: 7.88 GB -- Worker memory limit: 9.00 GB\n",
      "distributed.worker - WARNING - Memory use is high but worker has no data to store to disk.  Perhaps some other process is leaking memory?  Process memory: 7.88 GB -- Worker memory limit: 9.00 GB\n",
      "distributed.worker - WARNING - Memory use is high but worker has no data to store to disk.  Perhaps some other process is leaking memory?  Process memory: 7.88 GB -- Worker memory limit: 9.00 GB\n",
      "distributed.worker - WARNING - Memory use is high but worker has no data to store to disk.  Perhaps some other process is leaking memory?  Process memory: 7.88 GB -- Worker memory limit: 9.00 GB\n",
      "distributed.worker - WARNING - Memory use is high but worker has no data to store to disk.  Perhaps some other process is leaking memory?  Process memory: 7.88 GB -- Worker memory limit: 9.00 GB\n",
      "distributed.worker - WARNING - Memory use is high but worker has no data to store to disk.  Perhaps some other process is leaking memory?  Process memory: 7.88 GB -- Worker memory limit: 9.00 GB\n",
      "distributed.worker - WARNING - Memory use is high but worker has no data to store to disk.  Perhaps some other process is leaking memory?  Process memory: 7.88 GB -- Worker memory limit: 9.00 GB\n",
      "distributed.worker - WARNING - Memory use is high but worker has no data to store to disk.  Perhaps some other process is leaking memory?  Process memory: 7.88 GB -- Worker memory limit: 9.00 GB\n",
      "distributed.worker - WARNING - Memory use is high but worker has no data to store to disk.  Perhaps some other process is leaking memory?  Process memory: 7.88 GB -- Worker memory limit: 9.00 GB\n",
      "distributed.worker - WARNING - Memory use is high but worker has no data to store to disk.  Perhaps some other process is leaking memory?  Process memory: 7.88 GB -- Worker memory limit: 9.00 GB\n",
      "distributed.worker - WARNING - Memory use is high but worker has no data to store to disk.  Perhaps some other process is leaking memory?  Process memory: 7.88 GB -- Worker memory limit: 9.00 GB\n",
      "distributed.worker - WARNING - Memory use is high but worker has no data to store to disk.  Perhaps some other process is leaking memory?  Process memory: 7.88 GB -- Worker memory limit: 9.00 GB\n",
      "distributed.worker - WARNING - Memory use is high but worker has no data to store to disk.  Perhaps some other process is leaking memory?  Process memory: 7.88 GB -- Worker memory limit: 9.00 GB\n",
      "distributed.worker - WARNING - Memory use is high but worker has no data to store to disk.  Perhaps some other process is leaking memory?  Process memory: 7.88 GB -- Worker memory limit: 9.00 GB\n",
      "distributed.worker - WARNING - Memory use is high but worker has no data to store to disk.  Perhaps some other process is leaking memory?  Process memory: 7.88 GB -- Worker memory limit: 9.00 GB\n",
      "distributed.worker - WARNING - Memory use is high but worker has no data to store to disk.  Perhaps some other process is leaking memory?  Process memory: 7.88 GB -- Worker memory limit: 9.00 GB\n",
      "distributed.worker - WARNING - Memory use is high but worker has no data to store to disk.  Perhaps some other process is leaking memory?  Process memory: 7.88 GB -- Worker memory limit: 9.00 GB\n",
      "distributed.worker - WARNING - Memory use is high but worker has no data to store to disk.  Perhaps some other process is leaking memory?  Process memory: 7.88 GB -- Worker memory limit: 9.00 GB\n",
      "distributed.worker - WARNING - Memory use is high but worker has no data to store to disk.  Perhaps some other process is leaking memory?  Process memory: 7.88 GB -- Worker memory limit: 9.00 GB\n",
      "distributed.worker - WARNING - Memory use is high but worker has no data to store to disk.  Perhaps some other process is leaking memory?  Process memory: 7.88 GB -- Worker memory limit: 9.00 GB\n",
      "distributed.worker - WARNING - Memory use is high but worker has no data to store to disk.  Perhaps some other process is leaking memory?  Process memory: 7.88 GB -- Worker memory limit: 9.00 GB\n",
      "distributed.worker - WARNING - Memory use is high but worker has no data to store to disk.  Perhaps some other process is leaking memory?  Process memory: 7.88 GB -- Worker memory limit: 9.00 GB\n",
      "distributed.worker - WARNING - Memory use is high but worker has no data to store to disk.  Perhaps some other process is leaking memory?  Process memory: 7.88 GB -- Worker memory limit: 9.00 GB\n",
      "distributed.worker - WARNING - Memory use is high but worker has no data to store to disk.  Perhaps some other process is leaking memory?  Process memory: 7.88 GB -- Worker memory limit: 9.00 GB\n",
      "distributed.worker - WARNING - Memory use is high but worker has no data to store to disk.  Perhaps some other process is leaking memory?  Process memory: 7.88 GB -- Worker memory limit: 9.00 GB\n",
      "distributed.worker - WARNING - Memory use is high but worker has no data to store to disk.  Perhaps some other process is leaking memory?  Process memory: 7.88 GB -- Worker memory limit: 9.00 GB\n",
      "distributed.worker - WARNING - Memory use is high but worker has no data to store to disk.  Perhaps some other process is leaking memory?  Process memory: 7.88 GB -- Worker memory limit: 9.00 GB\n",
      "distributed.worker - WARNING - Memory use is high but worker has no data to store to disk.  Perhaps some other process is leaking memory?  Process memory: 7.88 GB -- Worker memory limit: 9.00 GB\n",
      "distributed.worker - WARNING - Memory use is high but worker has no data to store to disk.  Perhaps some other process is leaking memory?  Process memory: 7.88 GB -- Worker memory limit: 9.00 GB\n"
     ]
    },
    {
     "name": "stderr",
     "output_type": "stream",
     "text": [
      "distributed.worker - WARNING - Memory use is high but worker has no data to store to disk.  Perhaps some other process is leaking memory?  Process memory: 7.88 GB -- Worker memory limit: 9.00 GB\n",
      "distributed.worker - WARNING - Memory use is high but worker has no data to store to disk.  Perhaps some other process is leaking memory?  Process memory: 7.88 GB -- Worker memory limit: 9.00 GB\n",
      "distributed.worker - WARNING - Memory use is high but worker has no data to store to disk.  Perhaps some other process is leaking memory?  Process memory: 7.88 GB -- Worker memory limit: 9.00 GB\n",
      "distributed.worker - WARNING - Memory use is high but worker has no data to store to disk.  Perhaps some other process is leaking memory?  Process memory: 7.88 GB -- Worker memory limit: 9.00 GB\n",
      "distributed.worker - WARNING - Memory use is high but worker has no data to store to disk.  Perhaps some other process is leaking memory?  Process memory: 7.88 GB -- Worker memory limit: 9.00 GB\n",
      "distributed.worker - WARNING - Memory use is high but worker has no data to store to disk.  Perhaps some other process is leaking memory?  Process memory: 7.88 GB -- Worker memory limit: 9.00 GB\n",
      "distributed.worker - WARNING - Memory use is high but worker has no data to store to disk.  Perhaps some other process is leaking memory?  Process memory: 7.88 GB -- Worker memory limit: 9.00 GB\n",
      "distributed.worker - WARNING - Memory use is high but worker has no data to store to disk.  Perhaps some other process is leaking memory?  Process memory: 7.88 GB -- Worker memory limit: 9.00 GB\n",
      "distributed.worker - WARNING - Memory use is high but worker has no data to store to disk.  Perhaps some other process is leaking memory?  Process memory: 7.88 GB -- Worker memory limit: 9.00 GB\n",
      "distributed.worker - WARNING - Memory use is high but worker has no data to store to disk.  Perhaps some other process is leaking memory?  Process memory: 7.88 GB -- Worker memory limit: 9.00 GB\n",
      "distributed.worker - WARNING - Memory use is high but worker has no data to store to disk.  Perhaps some other process is leaking memory?  Process memory: 7.88 GB -- Worker memory limit: 9.00 GB\n",
      "distributed.worker - WARNING - Memory use is high but worker has no data to store to disk.  Perhaps some other process is leaking memory?  Process memory: 7.88 GB -- Worker memory limit: 9.00 GB\n",
      "distributed.worker - WARNING - Memory use is high but worker has no data to store to disk.  Perhaps some other process is leaking memory?  Process memory: 7.88 GB -- Worker memory limit: 9.00 GB\n",
      "distributed.worker - WARNING - Memory use is high but worker has no data to store to disk.  Perhaps some other process is leaking memory?  Process memory: 7.88 GB -- Worker memory limit: 9.00 GB\n",
      "distributed.worker - WARNING - Memory use is high but worker has no data to store to disk.  Perhaps some other process is leaking memory?  Process memory: 7.88 GB -- Worker memory limit: 9.00 GB\n",
      "distributed.worker - WARNING - Memory use is high but worker has no data to store to disk.  Perhaps some other process is leaking memory?  Process memory: 7.88 GB -- Worker memory limit: 9.00 GB\n",
      "distributed.worker - WARNING - Memory use is high but worker has no data to store to disk.  Perhaps some other process is leaking memory?  Process memory: 7.88 GB -- Worker memory limit: 9.00 GB\n",
      "distributed.worker - WARNING - Memory use is high but worker has no data to store to disk.  Perhaps some other process is leaking memory?  Process memory: 7.88 GB -- Worker memory limit: 9.00 GB\n",
      "distributed.worker - WARNING - Memory use is high but worker has no data to store to disk.  Perhaps some other process is leaking memory?  Process memory: 7.88 GB -- Worker memory limit: 9.00 GB\n",
      "distributed.worker - WARNING - Memory use is high but worker has no data to store to disk.  Perhaps some other process is leaking memory?  Process memory: 7.88 GB -- Worker memory limit: 9.00 GB\n",
      "distributed.worker - WARNING - Memory use is high but worker has no data to store to disk.  Perhaps some other process is leaking memory?  Process memory: 7.88 GB -- Worker memory limit: 9.00 GB\n",
      "distributed.worker - WARNING - Memory use is high but worker has no data to store to disk.  Perhaps some other process is leaking memory?  Process memory: 7.88 GB -- Worker memory limit: 9.00 GB\n",
      "distributed.worker - WARNING - Memory use is high but worker has no data to store to disk.  Perhaps some other process is leaking memory?  Process memory: 7.88 GB -- Worker memory limit: 9.00 GB\n",
      "distributed.worker - WARNING - Memory use is high but worker has no data to store to disk.  Perhaps some other process is leaking memory?  Process memory: 7.88 GB -- Worker memory limit: 9.00 GB\n",
      "distributed.worker - WARNING - Memory use is high but worker has no data to store to disk.  Perhaps some other process is leaking memory?  Process memory: 7.88 GB -- Worker memory limit: 9.00 GB\n",
      "distributed.worker - WARNING - Memory use is high but worker has no data to store to disk.  Perhaps some other process is leaking memory?  Process memory: 7.88 GB -- Worker memory limit: 9.00 GB\n",
      "distributed.worker - WARNING - Memory use is high but worker has no data to store to disk.  Perhaps some other process is leaking memory?  Process memory: 7.88 GB -- Worker memory limit: 9.00 GB\n",
      "distributed.worker - WARNING - Memory use is high but worker has no data to store to disk.  Perhaps some other process is leaking memory?  Process memory: 7.88 GB -- Worker memory limit: 9.00 GB\n",
      "distributed.worker - WARNING - Memory use is high but worker has no data to store to disk.  Perhaps some other process is leaking memory?  Process memory: 7.88 GB -- Worker memory limit: 9.00 GB\n",
      "distributed.worker - WARNING - Memory use is high but worker has no data to store to disk.  Perhaps some other process is leaking memory?  Process memory: 7.88 GB -- Worker memory limit: 9.00 GB\n",
      "distributed.worker - WARNING - Memory use is high but worker has no data to store to disk.  Perhaps some other process is leaking memory?  Process memory: 7.88 GB -- Worker memory limit: 9.00 GB\n",
      "distributed.worker - WARNING - Memory use is high but worker has no data to store to disk.  Perhaps some other process is leaking memory?  Process memory: 7.88 GB -- Worker memory limit: 9.00 GB\n",
      "distributed.worker - WARNING - Memory use is high but worker has no data to store to disk.  Perhaps some other process is leaking memory?  Process memory: 7.88 GB -- Worker memory limit: 9.00 GB\n",
      "distributed.worker - WARNING - Memory use is high but worker has no data to store to disk.  Perhaps some other process is leaking memory?  Process memory: 7.88 GB -- Worker memory limit: 9.00 GB\n",
      "distributed.worker - WARNING - Memory use is high but worker has no data to store to disk.  Perhaps some other process is leaking memory?  Process memory: 7.88 GB -- Worker memory limit: 9.00 GB\n",
      "distributed.worker - WARNING - Memory use is high but worker has no data to store to disk.  Perhaps some other process is leaking memory?  Process memory: 7.88 GB -- Worker memory limit: 9.00 GB\n",
      "distributed.worker - WARNING - Memory use is high but worker has no data to store to disk.  Perhaps some other process is leaking memory?  Process memory: 7.88 GB -- Worker memory limit: 9.00 GB\n",
      "distributed.worker - WARNING - Memory use is high but worker has no data to store to disk.  Perhaps some other process is leaking memory?  Process memory: 7.88 GB -- Worker memory limit: 9.00 GB\n",
      "distributed.worker - WARNING - Memory use is high but worker has no data to store to disk.  Perhaps some other process is leaking memory?  Process memory: 7.88 GB -- Worker memory limit: 9.00 GB\n",
      "distributed.worker - WARNING - Memory use is high but worker has no data to store to disk.  Perhaps some other process is leaking memory?  Process memory: 7.88 GB -- Worker memory limit: 9.00 GB\n",
      "distributed.worker - WARNING - Memory use is high but worker has no data to store to disk.  Perhaps some other process is leaking memory?  Process memory: 7.88 GB -- Worker memory limit: 9.00 GB\n",
      "distributed.worker - WARNING - Memory use is high but worker has no data to store to disk.  Perhaps some other process is leaking memory?  Process memory: 7.88 GB -- Worker memory limit: 9.00 GB\n",
      "distributed.worker - WARNING - Memory use is high but worker has no data to store to disk.  Perhaps some other process is leaking memory?  Process memory: 7.88 GB -- Worker memory limit: 9.00 GB\n"
     ]
    },
    {
     "name": "stderr",
     "output_type": "stream",
     "text": [
      "distributed.worker - WARNING - Memory use is high but worker has no data to store to disk.  Perhaps some other process is leaking memory?  Process memory: 7.88 GB -- Worker memory limit: 9.00 GB\n",
      "distributed.worker - WARNING - Memory use is high but worker has no data to store to disk.  Perhaps some other process is leaking memory?  Process memory: 7.88 GB -- Worker memory limit: 9.00 GB\n",
      "distributed.worker - WARNING - Memory use is high but worker has no data to store to disk.  Perhaps some other process is leaking memory?  Process memory: 7.88 GB -- Worker memory limit: 9.00 GB\n",
      "distributed.worker - WARNING - Memory use is high but worker has no data to store to disk.  Perhaps some other process is leaking memory?  Process memory: 7.88 GB -- Worker memory limit: 9.00 GB\n",
      "distributed.worker - WARNING - Memory use is high but worker has no data to store to disk.  Perhaps some other process is leaking memory?  Process memory: 7.88 GB -- Worker memory limit: 9.00 GB\n",
      "distributed.worker - WARNING - Memory use is high but worker has no data to store to disk.  Perhaps some other process is leaking memory?  Process memory: 7.88 GB -- Worker memory limit: 9.00 GB\n",
      "distributed.worker - WARNING - Memory use is high but worker has no data to store to disk.  Perhaps some other process is leaking memory?  Process memory: 7.88 GB -- Worker memory limit: 9.00 GB\n",
      "distributed.worker - WARNING - Memory use is high but worker has no data to store to disk.  Perhaps some other process is leaking memory?  Process memory: 7.88 GB -- Worker memory limit: 9.00 GB\n",
      "distributed.worker - WARNING - Memory use is high but worker has no data to store to disk.  Perhaps some other process is leaking memory?  Process memory: 7.88 GB -- Worker memory limit: 9.00 GB\n",
      "distributed.worker - WARNING - Memory use is high but worker has no data to store to disk.  Perhaps some other process is leaking memory?  Process memory: 7.88 GB -- Worker memory limit: 9.00 GB\n",
      "distributed.worker - WARNING - Memory use is high but worker has no data to store to disk.  Perhaps some other process is leaking memory?  Process memory: 7.88 GB -- Worker memory limit: 9.00 GB\n",
      "distributed.worker - WARNING - Memory use is high but worker has no data to store to disk.  Perhaps some other process is leaking memory?  Process memory: 7.88 GB -- Worker memory limit: 9.00 GB\n",
      "distributed.worker - WARNING - Memory use is high but worker has no data to store to disk.  Perhaps some other process is leaking memory?  Process memory: 7.88 GB -- Worker memory limit: 9.00 GB\n",
      "distributed.worker - WARNING - Memory use is high but worker has no data to store to disk.  Perhaps some other process is leaking memory?  Process memory: 7.88 GB -- Worker memory limit: 9.00 GB\n",
      "distributed.worker - WARNING - Memory use is high but worker has no data to store to disk.  Perhaps some other process is leaking memory?  Process memory: 7.88 GB -- Worker memory limit: 9.00 GB\n",
      "distributed.worker - WARNING - Memory use is high but worker has no data to store to disk.  Perhaps some other process is leaking memory?  Process memory: 7.88 GB -- Worker memory limit: 9.00 GB\n",
      "distributed.worker - WARNING - Memory use is high but worker has no data to store to disk.  Perhaps some other process is leaking memory?  Process memory: 7.88 GB -- Worker memory limit: 9.00 GB\n",
      "distributed.worker - WARNING - Memory use is high but worker has no data to store to disk.  Perhaps some other process is leaking memory?  Process memory: 7.88 GB -- Worker memory limit: 9.00 GB\n",
      "distributed.worker - WARNING - Memory use is high but worker has no data to store to disk.  Perhaps some other process is leaking memory?  Process memory: 7.88 GB -- Worker memory limit: 9.00 GB\n",
      "distributed.worker - WARNING - Memory use is high but worker has no data to store to disk.  Perhaps some other process is leaking memory?  Process memory: 7.88 GB -- Worker memory limit: 9.00 GB\n",
      "distributed.worker - WARNING - Memory use is high but worker has no data to store to disk.  Perhaps some other process is leaking memory?  Process memory: 7.88 GB -- Worker memory limit: 9.00 GB\n",
      "distributed.worker - WARNING - Memory use is high but worker has no data to store to disk.  Perhaps some other process is leaking memory?  Process memory: 7.88 GB -- Worker memory limit: 9.00 GB\n",
      "distributed.worker - WARNING - Memory use is high but worker has no data to store to disk.  Perhaps some other process is leaking memory?  Process memory: 7.88 GB -- Worker memory limit: 9.00 GB\n",
      "distributed.worker - WARNING - Memory use is high but worker has no data to store to disk.  Perhaps some other process is leaking memory?  Process memory: 7.88 GB -- Worker memory limit: 9.00 GB\n",
      "distributed.worker - WARNING - Memory use is high but worker has no data to store to disk.  Perhaps some other process is leaking memory?  Process memory: 7.88 GB -- Worker memory limit: 9.00 GB\n",
      "distributed.worker - WARNING - Memory use is high but worker has no data to store to disk.  Perhaps some other process is leaking memory?  Process memory: 7.88 GB -- Worker memory limit: 9.00 GB\n",
      "distributed.worker - WARNING - Memory use is high but worker has no data to store to disk.  Perhaps some other process is leaking memory?  Process memory: 7.88 GB -- Worker memory limit: 9.00 GB\n",
      "distributed.worker - WARNING - Memory use is high but worker has no data to store to disk.  Perhaps some other process is leaking memory?  Process memory: 7.88 GB -- Worker memory limit: 9.00 GB\n",
      "distributed.worker - WARNING - Memory use is high but worker has no data to store to disk.  Perhaps some other process is leaking memory?  Process memory: 7.88 GB -- Worker memory limit: 9.00 GB\n",
      "distributed.worker - WARNING - Memory use is high but worker has no data to store to disk.  Perhaps some other process is leaking memory?  Process memory: 7.88 GB -- Worker memory limit: 9.00 GB\n",
      "distributed.worker - WARNING - Memory use is high but worker has no data to store to disk.  Perhaps some other process is leaking memory?  Process memory: 7.88 GB -- Worker memory limit: 9.00 GB\n",
      "distributed.worker - WARNING - Memory use is high but worker has no data to store to disk.  Perhaps some other process is leaking memory?  Process memory: 7.88 GB -- Worker memory limit: 9.00 GB\n",
      "distributed.worker - WARNING - Memory use is high but worker has no data to store to disk.  Perhaps some other process is leaking memory?  Process memory: 7.88 GB -- Worker memory limit: 9.00 GB\n",
      "distributed.worker - WARNING - Memory use is high but worker has no data to store to disk.  Perhaps some other process is leaking memory?  Process memory: 7.88 GB -- Worker memory limit: 9.00 GB\n",
      "distributed.worker - WARNING - Memory use is high but worker has no data to store to disk.  Perhaps some other process is leaking memory?  Process memory: 7.88 GB -- Worker memory limit: 9.00 GB\n",
      "distributed.worker - WARNING - Memory use is high but worker has no data to store to disk.  Perhaps some other process is leaking memory?  Process memory: 7.88 GB -- Worker memory limit: 9.00 GB\n",
      "distributed.worker - WARNING - Memory use is high but worker has no data to store to disk.  Perhaps some other process is leaking memory?  Process memory: 7.88 GB -- Worker memory limit: 9.00 GB\n",
      "distributed.worker - WARNING - Memory use is high but worker has no data to store to disk.  Perhaps some other process is leaking memory?  Process memory: 7.88 GB -- Worker memory limit: 9.00 GB\n",
      "distributed.worker - WARNING - Memory use is high but worker has no data to store to disk.  Perhaps some other process is leaking memory?  Process memory: 7.88 GB -- Worker memory limit: 9.00 GB\n",
      "distributed.worker - WARNING - Memory use is high but worker has no data to store to disk.  Perhaps some other process is leaking memory?  Process memory: 7.88 GB -- Worker memory limit: 9.00 GB\n",
      "distributed.worker - WARNING - Memory use is high but worker has no data to store to disk.  Perhaps some other process is leaking memory?  Process memory: 7.88 GB -- Worker memory limit: 9.00 GB\n",
      "distributed.worker - WARNING - Memory use is high but worker has no data to store to disk.  Perhaps some other process is leaking memory?  Process memory: 7.88 GB -- Worker memory limit: 9.00 GB\n",
      "distributed.worker - WARNING - Memory use is high but worker has no data to store to disk.  Perhaps some other process is leaking memory?  Process memory: 7.88 GB -- Worker memory limit: 9.00 GB\n"
     ]
    },
    {
     "name": "stderr",
     "output_type": "stream",
     "text": [
      "distributed.worker - WARNING - Memory use is high but worker has no data to store to disk.  Perhaps some other process is leaking memory?  Process memory: 7.88 GB -- Worker memory limit: 9.00 GB\n",
      "distributed.worker - WARNING - Memory use is high but worker has no data to store to disk.  Perhaps some other process is leaking memory?  Process memory: 7.88 GB -- Worker memory limit: 9.00 GB\n",
      "distributed.worker - WARNING - Memory use is high but worker has no data to store to disk.  Perhaps some other process is leaking memory?  Process memory: 7.88 GB -- Worker memory limit: 9.00 GB\n",
      "distributed.worker - WARNING - Memory use is high but worker has no data to store to disk.  Perhaps some other process is leaking memory?  Process memory: 7.88 GB -- Worker memory limit: 9.00 GB\n",
      "distributed.worker - WARNING - Memory use is high but worker has no data to store to disk.  Perhaps some other process is leaking memory?  Process memory: 7.88 GB -- Worker memory limit: 9.00 GB\n",
      "distributed.worker - WARNING - Memory use is high but worker has no data to store to disk.  Perhaps some other process is leaking memory?  Process memory: 7.88 GB -- Worker memory limit: 9.00 GB\n",
      "distributed.worker - WARNING - Memory use is high but worker has no data to store to disk.  Perhaps some other process is leaking memory?  Process memory: 7.88 GB -- Worker memory limit: 9.00 GB\n",
      "distributed.worker - WARNING - Memory use is high but worker has no data to store to disk.  Perhaps some other process is leaking memory?  Process memory: 7.88 GB -- Worker memory limit: 9.00 GB\n",
      "distributed.worker - WARNING - Memory use is high but worker has no data to store to disk.  Perhaps some other process is leaking memory?  Process memory: 7.88 GB -- Worker memory limit: 9.00 GB\n",
      "distributed.worker - WARNING - Memory use is high but worker has no data to store to disk.  Perhaps some other process is leaking memory?  Process memory: 7.88 GB -- Worker memory limit: 9.00 GB\n",
      "distributed.worker - WARNING - Memory use is high but worker has no data to store to disk.  Perhaps some other process is leaking memory?  Process memory: 7.88 GB -- Worker memory limit: 9.00 GB\n",
      "distributed.worker - WARNING - Memory use is high but worker has no data to store to disk.  Perhaps some other process is leaking memory?  Process memory: 7.88 GB -- Worker memory limit: 9.00 GB\n",
      "distributed.worker - WARNING - Memory use is high but worker has no data to store to disk.  Perhaps some other process is leaking memory?  Process memory: 7.88 GB -- Worker memory limit: 9.00 GB\n",
      "distributed.worker - WARNING - Memory use is high but worker has no data to store to disk.  Perhaps some other process is leaking memory?  Process memory: 7.88 GB -- Worker memory limit: 9.00 GB\n",
      "distributed.worker - WARNING - Memory use is high but worker has no data to store to disk.  Perhaps some other process is leaking memory?  Process memory: 7.88 GB -- Worker memory limit: 9.00 GB\n",
      "distributed.worker - WARNING - Memory use is high but worker has no data to store to disk.  Perhaps some other process is leaking memory?  Process memory: 7.88 GB -- Worker memory limit: 9.00 GB\n",
      "distributed.worker - WARNING - Memory use is high but worker has no data to store to disk.  Perhaps some other process is leaking memory?  Process memory: 7.88 GB -- Worker memory limit: 9.00 GB\n",
      "distributed.worker - WARNING - Memory use is high but worker has no data to store to disk.  Perhaps some other process is leaking memory?  Process memory: 7.88 GB -- Worker memory limit: 9.00 GB\n",
      "distributed.worker - WARNING - Memory use is high but worker has no data to store to disk.  Perhaps some other process is leaking memory?  Process memory: 7.88 GB -- Worker memory limit: 9.00 GB\n",
      "distributed.worker - WARNING - Memory use is high but worker has no data to store to disk.  Perhaps some other process is leaking memory?  Process memory: 7.88 GB -- Worker memory limit: 9.00 GB\n",
      "distributed.worker - WARNING - Memory use is high but worker has no data to store to disk.  Perhaps some other process is leaking memory?  Process memory: 7.88 GB -- Worker memory limit: 9.00 GB\n",
      "distributed.worker - WARNING - Memory use is high but worker has no data to store to disk.  Perhaps some other process is leaking memory?  Process memory: 7.88 GB -- Worker memory limit: 9.00 GB\n",
      "distributed.worker - WARNING - Memory use is high but worker has no data to store to disk.  Perhaps some other process is leaking memory?  Process memory: 7.88 GB -- Worker memory limit: 9.00 GB\n",
      "distributed.worker - WARNING - Memory use is high but worker has no data to store to disk.  Perhaps some other process is leaking memory?  Process memory: 7.88 GB -- Worker memory limit: 9.00 GB\n",
      "distributed.worker - WARNING - Memory use is high but worker has no data to store to disk.  Perhaps some other process is leaking memory?  Process memory: 7.88 GB -- Worker memory limit: 9.00 GB\n",
      "distributed.worker - WARNING - Memory use is high but worker has no data to store to disk.  Perhaps some other process is leaking memory?  Process memory: 7.88 GB -- Worker memory limit: 9.00 GB\n",
      "distributed.worker - WARNING - Memory use is high but worker has no data to store to disk.  Perhaps some other process is leaking memory?  Process memory: 7.88 GB -- Worker memory limit: 9.00 GB\n",
      "distributed.worker - WARNING - Memory use is high but worker has no data to store to disk.  Perhaps some other process is leaking memory?  Process memory: 7.88 GB -- Worker memory limit: 9.00 GB\n",
      "distributed.worker - WARNING - Memory use is high but worker has no data to store to disk.  Perhaps some other process is leaking memory?  Process memory: 7.88 GB -- Worker memory limit: 9.00 GB\n",
      "distributed.worker - WARNING - Memory use is high but worker has no data to store to disk.  Perhaps some other process is leaking memory?  Process memory: 7.88 GB -- Worker memory limit: 9.00 GB\n",
      "distributed.worker - WARNING - Memory use is high but worker has no data to store to disk.  Perhaps some other process is leaking memory?  Process memory: 7.88 GB -- Worker memory limit: 9.00 GB\n",
      "distributed.worker - WARNING - Memory use is high but worker has no data to store to disk.  Perhaps some other process is leaking memory?  Process memory: 7.88 GB -- Worker memory limit: 9.00 GB\n",
      "distributed.worker - WARNING - Memory use is high but worker has no data to store to disk.  Perhaps some other process is leaking memory?  Process memory: 7.88 GB -- Worker memory limit: 9.00 GB\n",
      "distributed.worker - WARNING - Memory use is high but worker has no data to store to disk.  Perhaps some other process is leaking memory?  Process memory: 7.88 GB -- Worker memory limit: 9.00 GB\n",
      "distributed.worker - WARNING - Memory use is high but worker has no data to store to disk.  Perhaps some other process is leaking memory?  Process memory: 7.88 GB -- Worker memory limit: 9.00 GB\n",
      "distributed.worker - WARNING - Memory use is high but worker has no data to store to disk.  Perhaps some other process is leaking memory?  Process memory: 7.88 GB -- Worker memory limit: 9.00 GB\n",
      "distributed.worker - WARNING - Memory use is high but worker has no data to store to disk.  Perhaps some other process is leaking memory?  Process memory: 7.88 GB -- Worker memory limit: 9.00 GB\n",
      "distributed.worker - WARNING - Memory use is high but worker has no data to store to disk.  Perhaps some other process is leaking memory?  Process memory: 7.88 GB -- Worker memory limit: 9.00 GB\n",
      "distributed.worker - WARNING - Memory use is high but worker has no data to store to disk.  Perhaps some other process is leaking memory?  Process memory: 7.88 GB -- Worker memory limit: 9.00 GB\n",
      "distributed.worker - WARNING - Memory use is high but worker has no data to store to disk.  Perhaps some other process is leaking memory?  Process memory: 7.88 GB -- Worker memory limit: 9.00 GB\n",
      "distributed.worker - WARNING - Memory use is high but worker has no data to store to disk.  Perhaps some other process is leaking memory?  Process memory: 7.88 GB -- Worker memory limit: 9.00 GB\n",
      "distributed.worker - WARNING - Memory use is high but worker has no data to store to disk.  Perhaps some other process is leaking memory?  Process memory: 7.88 GB -- Worker memory limit: 9.00 GB\n",
      "distributed.worker - WARNING - Memory use is high but worker has no data to store to disk.  Perhaps some other process is leaking memory?  Process memory: 7.88 GB -- Worker memory limit: 9.00 GB\n"
     ]
    },
    {
     "name": "stderr",
     "output_type": "stream",
     "text": [
      "distributed.worker - WARNING - Memory use is high but worker has no data to store to disk.  Perhaps some other process is leaking memory?  Process memory: 7.88 GB -- Worker memory limit: 9.00 GB\n",
      "distributed.worker - WARNING - Memory use is high but worker has no data to store to disk.  Perhaps some other process is leaking memory?  Process memory: 7.88 GB -- Worker memory limit: 9.00 GB\n",
      "distributed.worker - WARNING - Memory use is high but worker has no data to store to disk.  Perhaps some other process is leaking memory?  Process memory: 7.88 GB -- Worker memory limit: 9.00 GB\n",
      "distributed.worker - WARNING - Memory use is high but worker has no data to store to disk.  Perhaps some other process is leaking memory?  Process memory: 7.88 GB -- Worker memory limit: 9.00 GB\n",
      "distributed.worker - WARNING - Memory use is high but worker has no data to store to disk.  Perhaps some other process is leaking memory?  Process memory: 7.88 GB -- Worker memory limit: 9.00 GB\n",
      "distributed.worker - WARNING - Memory use is high but worker has no data to store to disk.  Perhaps some other process is leaking memory?  Process memory: 7.88 GB -- Worker memory limit: 9.00 GB\n",
      "distributed.worker - WARNING - Memory use is high but worker has no data to store to disk.  Perhaps some other process is leaking memory?  Process memory: 7.88 GB -- Worker memory limit: 9.00 GB\n",
      "distributed.worker - WARNING - Memory use is high but worker has no data to store to disk.  Perhaps some other process is leaking memory?  Process memory: 7.88 GB -- Worker memory limit: 9.00 GB\n",
      "distributed.worker - WARNING - Memory use is high but worker has no data to store to disk.  Perhaps some other process is leaking memory?  Process memory: 7.88 GB -- Worker memory limit: 9.00 GB\n",
      "distributed.worker - WARNING - Memory use is high but worker has no data to store to disk.  Perhaps some other process is leaking memory?  Process memory: 7.88 GB -- Worker memory limit: 9.00 GB\n",
      "distributed.worker - WARNING - Memory use is high but worker has no data to store to disk.  Perhaps some other process is leaking memory?  Process memory: 7.88 GB -- Worker memory limit: 9.00 GB\n",
      "distributed.worker - WARNING - Memory use is high but worker has no data to store to disk.  Perhaps some other process is leaking memory?  Process memory: 7.88 GB -- Worker memory limit: 9.00 GB\n"
     ]
    }
   ],
   "source": [
    "%time \n",
    "z.compute()"
   ]
  },
  {
   "cell_type": "code",
   "execution_count": null,
   "metadata": {},
   "outputs": [],
   "source": []
  }
 ],
 "metadata": {
  "kernelspec": {
   "display_name": "Python 3",
   "language": "python",
   "name": "python3"
  },
  "language_info": {
   "codemirror_mode": {
    "name": "ipython",
    "version": 3
   },
   "file_extension": ".py",
   "mimetype": "text/x-python",
   "name": "python",
   "nbconvert_exporter": "python",
   "pygments_lexer": "ipython3",
   "version": "3.6.8"
  }
 },
 "nbformat": 4,
 "nbformat_minor": 4
}
