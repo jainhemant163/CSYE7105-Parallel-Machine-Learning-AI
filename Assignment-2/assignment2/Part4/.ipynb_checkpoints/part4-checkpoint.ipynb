{
 "cells": [
  {
   "cell_type": "code",
   "execution_count": 1,
   "metadata": {},
   "outputs": [],
   "source": [
    "import numpy as np"
   ]
  },
  {
   "cell_type": "code",
   "execution_count": 2,
   "metadata": {},
   "outputs": [
    {
     "data": {
      "text/plain": [
       "array([[ 9.96027639, 10.07638252, 10.10196962, ..., 10.08089975,\n",
       "         9.95781728,  9.95041184],\n",
       "       [10.06635086, 10.01194089,  9.89148921, ...,  9.966963  ,\n",
       "         9.99542055, 10.00405226],\n",
       "       [ 9.92656032,  9.88612571,  9.94674678, ..., 10.11929828,\n",
       "         9.89827638,  9.98773388],\n",
       "       ...,\n",
       "       [10.00669142, 10.01851141,  9.86895471, ..., 10.02117278,\n",
       "         9.96163628, 10.0556938 ],\n",
       "       [ 9.91769334, 10.08934808, 10.03519138, ..., 10.02717974,\n",
       "        10.04048907, 10.00716825],\n",
       "       [10.12109673,  9.81642519, 10.07907113, ..., 10.1364627 ,\n",
       "         9.84048548,  9.91975389]])"
      ]
     },
     "execution_count": 2,
     "metadata": {},
     "output_type": "execute_result"
    }
   ],
   "source": [
    "mu, sigma = 10, 0.1 # mean and standard deviation\n",
    "s = np.random.default_rng().normal(mu, sigma, size=(20000,20000))\n",
    "s"
   ]
  },
  {
   "cell_type": "code",
   "execution_count": 3,
   "metadata": {},
   "outputs": [
    {
     "name": "stdout",
     "output_type": "stream",
     "text": [
      "Wall time: 7.01 ms\n"
     ]
    },
    {
     "data": {
      "text/plain": [
       "array([10.00368082,  9.99359661,  9.99739182, ...,  9.98525426,\n",
       "        9.99588979,  9.98884243])"
      ]
     },
     "execution_count": 3,
     "metadata": {},
     "output_type": "execute_result"
    }
   ],
   "source": [
    "y= s \n",
    "%time z=y[::100,:].mean(axis=0)\n",
    "z"
   ]
  },
  {
   "cell_type": "code",
   "execution_count": 8,
   "metadata": {},
   "outputs": [
    {
     "name": "stdout",
     "output_type": "stream",
     "text": [
      "Requirement already satisfied: dask-labextension in c:\\users\\jainh\\appdata\\local\\programs\\python\\python36\\lib\\site-packages (5.0.1)\n",
      "Requirement already satisfied: distributed>=1.24.1 in c:\\users\\jainh\\appdata\\local\\programs\\python\\python36\\lib\\site-packages (from dask-labextension) (2021.3.0)\n",
      "Requirement already satisfied: jupyter-server-proxy>=1.3.2 in c:\\users\\jainh\\appdata\\local\\programs\\python\\python36\\lib\\site-packages (from dask-labextension) (3.0.0)\n",
      "Requirement already satisfied: jupyterlab>=3.0.0 in c:\\users\\jainh\\appdata\\local\\programs\\python\\python36\\lib\\site-packages (from dask-labextension) (3.0.9)\n",
      "Requirement already satisfied: bokeh!=2.0.0,>=1.0.0 in c:\\users\\jainh\\appdata\\local\\programs\\python\\python36\\lib\\site-packages (from dask-labextension) (2.2.3)\n",
      "Requirement already satisfied: sortedcontainers!=2.0.0,!=2.0.1 in c:\\users\\jainh\\appdata\\local\\programs\\python\\python36\\lib\\site-packages (from distributed>=1.24.1->dask-labextension) (2.3.0)\n",
      "Requirement already satisfied: msgpack>=0.6.0 in c:\\users\\jainh\\appdata\\local\\programs\\python\\python36\\lib\\site-packages (from distributed>=1.24.1->dask-labextension) (1.0.2)\n",
      "Requirement already satisfied: zict>=0.1.3 in c:\\users\\jainh\\appdata\\local\\programs\\python\\python36\\lib\\site-packages (from distributed>=1.24.1->dask-labextension) (2.0.0)\n",
      "Requirement already satisfied: toolz>=0.8.2 in c:\\users\\jainh\\appdata\\local\\programs\\python\\python36\\lib\\site-packages (from distributed>=1.24.1->dask-labextension) (0.11.1)\n",
      "Requirement already satisfied: tornado>=5; python_version < \"3.8\" in c:\\users\\jainh\\appdata\\local\\programs\\python\\python36\\lib\\site-packages (from distributed>=1.24.1->dask-labextension) (6.1)\n",
      "Requirement already satisfied: setuptools in c:\\users\\jainh\\appdata\\local\\programs\\python\\python36\\lib\\site-packages (from distributed>=1.24.1->dask-labextension) (50.3.2)\n",
      "Requirement already satisfied: dask>=2021.03.0 in c:\\users\\jainh\\appdata\\local\\programs\\python\\python36\\lib\\site-packages (from distributed>=1.24.1->dask-labextension) (2021.3.0)\n",
      "Requirement already satisfied: click>=6.6 in c:\\users\\jainh\\appdata\\local\\programs\\python\\python36\\lib\\site-packages (from distributed>=1.24.1->dask-labextension) (7.1.2)\n",
      "Requirement already satisfied: contextvars; python_version < \"3.7\" in c:\\users\\jainh\\appdata\\local\\programs\\python\\python36\\lib\\site-packages (from distributed>=1.24.1->dask-labextension) (2.4)\n",
      "Requirement already satisfied: psutil>=5.0 in c:\\users\\jainh\\appdata\\local\\programs\\python\\python36\\lib\\site-packages (from distributed>=1.24.1->dask-labextension) (5.8.0)\n",
      "Requirement already satisfied: cloudpickle>=1.5.0 in c:\\users\\jainh\\appdata\\local\\programs\\python\\python36\\lib\\site-packages (from distributed>=1.24.1->dask-labextension) (1.6.0)\n",
      "Requirement already satisfied: tblib>=1.6.0 in c:\\users\\jainh\\appdata\\local\\programs\\python\\python36\\lib\\site-packages (from distributed>=1.24.1->dask-labextension) (1.7.0)\n",
      "Requirement already satisfied: pyyaml in c:\\users\\jainh\\appdata\\local\\programs\\python\\python36\\lib\\site-packages (from distributed>=1.24.1->dask-labextension) (5.3.1)\n",
      "Requirement already satisfied: simpervisor>=0.4 in c:\\users\\jainh\\appdata\\local\\programs\\python\\python36\\lib\\site-packages (from jupyter-server-proxy>=1.3.2->dask-labextension) (0.4)\n",
      "Requirement already satisfied: jupyter-server>=1.0 in c:\\users\\jainh\\appdata\\local\\programs\\python\\python36\\lib\\site-packages (from jupyter-server-proxy>=1.3.2->dask-labextension) (1.4.1)\n",
      "Requirement already satisfied: aiohttp in c:\\users\\jainh\\appdata\\local\\programs\\python\\python36\\lib\\site-packages (from jupyter-server-proxy>=1.3.2->dask-labextension) (3.7.4.post0)\n",
      "Requirement already satisfied: packaging in c:\\users\\jainh\\appdata\\local\\programs\\python\\python36\\lib\\site-packages (from jupyterlab>=3.0.0->dask-labextension) (20.4)\n",
      "Requirement already satisfied: jupyterlab-server~=2.3 in c:\\users\\jainh\\appdata\\local\\programs\\python\\python36\\lib\\site-packages (from jupyterlab>=3.0.0->dask-labextension) (2.3.0)\n",
      "Requirement already satisfied: ipython in c:\\users\\jainh\\appdata\\local\\programs\\python\\python36\\lib\\site-packages (from jupyterlab>=3.0.0->dask-labextension) (7.13.0)\n",
      "Requirement already satisfied: jupyter-packaging~=0.7.3 in c:\\users\\jainh\\appdata\\local\\programs\\python\\python36\\lib\\site-packages (from jupyterlab>=3.0.0->dask-labextension) (0.7.12)\n",
      "Requirement already satisfied: nbclassic~=0.2 in c:\\users\\jainh\\appdata\\local\\programs\\python\\python36\\lib\\site-packages (from jupyterlab>=3.0.0->dask-labextension) (0.2.6)\n",
      "Requirement already satisfied: jinja2>=2.10 in c:\\users\\jainh\\appdata\\local\\programs\\python\\python36\\lib\\site-packages (from jupyterlab>=3.0.0->dask-labextension) (2.10.1)\n",
      "Requirement already satisfied: jupyter-core in c:\\users\\jainh\\appdata\\local\\programs\\python\\python36\\lib\\site-packages (from jupyterlab>=3.0.0->dask-labextension) (4.6.3)\n",
      "Requirement already satisfied: python-dateutil>=2.1 in c:\\users\\jainh\\appdata\\local\\programs\\python\\python36\\lib\\site-packages (from bokeh!=2.0.0,>=1.0.0->dask-labextension) (2.8.1)\n",
      "Requirement already satisfied: typing-extensions>=3.7.4 in c:\\users\\jainh\\appdata\\local\\programs\\python\\python36\\lib\\site-packages (from bokeh!=2.0.0,>=1.0.0->dask-labextension) (3.7.4.3)\n",
      "Requirement already satisfied: numpy>=1.11.3 in c:\\users\\jainh\\appdata\\local\\programs\\python\\python36\\lib\\site-packages (from bokeh!=2.0.0,>=1.0.0->dask-labextension) (1.18.1)\n",
      "Requirement already satisfied: pillow>=7.1.0 in c:\\users\\jainh\\appdata\\local\\programs\\python\\python36\\lib\\site-packages (from bokeh!=2.0.0,>=1.0.0->dask-labextension) (7.1.1)\n",
      "Requirement already satisfied: heapdict in c:\\users\\jainh\\appdata\\local\\programs\\python\\python36\\lib\\site-packages (from zict>=0.1.3->distributed>=1.24.1->dask-labextension) (1.0.1)\n",
      "Requirement already satisfied: immutables>=0.9 in c:\\users\\jainh\\appdata\\local\\programs\\python\\python36\\lib\\site-packages (from contextvars; python_version < \"3.7\"->distributed>=1.24.1->dask-labextension) (0.15)\n",
      "Requirement already satisfied: ipython-genutils in c:\\users\\jainh\\appdata\\local\\programs\\python\\python36\\lib\\site-packages (from jupyter-server>=1.0->jupyter-server-proxy>=1.3.2->dask-labextension) (0.2.0)\n",
      "Requirement already satisfied: terminado>=0.8.3 in c:\\users\\jainh\\appdata\\local\\programs\\python\\python36\\lib\\site-packages (from jupyter-server>=1.0->jupyter-server-proxy>=1.3.2->dask-labextension) (0.8.3)\n",
      "Requirement already satisfied: jupyter-client>=6.1.1 in c:\\users\\jainh\\appdata\\local\\programs\\python\\python36\\lib\\site-packages (from jupyter-server>=1.0->jupyter-server-proxy>=1.3.2->dask-labextension) (6.1.3)\n",
      "Requirement already satisfied: pywin32>=1.0; sys_platform == \"win32\" in c:\\users\\jainh\\appdata\\local\\programs\\python\\python36\\lib\\site-packages (from jupyter-server>=1.0->jupyter-server-proxy>=1.3.2->dask-labextension) (227)\n",
      "Requirement already satisfied: nbformat in c:\\users\\jainh\\appdata\\local\\programs\\python\\python36\\lib\\site-packages (from jupyter-server>=1.0->jupyter-server-proxy>=1.3.2->dask-labextension) (5.0.6)\n",
      "Requirement already satisfied: nbconvert in c:\\users\\jainh\\appdata\\local\\programs\\python\\python36\\lib\\site-packages (from jupyter-server>=1.0->jupyter-server-proxy>=1.3.2->dask-labextension) (5.6.1)\n",
      "Requirement already satisfied: pyzmq>=17 in c:\\users\\jainh\\appdata\\local\\programs\\python\\python36\\lib\\site-packages (from jupyter-server>=1.0->jupyter-server-proxy>=1.3.2->dask-labextension) (19.0.0)\n",
      "Requirement already satisfied: anyio>=2.0.2 in c:\\users\\jainh\\appdata\\local\\programs\\python\\python36\\lib\\site-packages (from jupyter-server>=1.0->jupyter-server-proxy>=1.3.2->dask-labextension) (2.1.0)\n",
      "Requirement already satisfied: traitlets>=4.2.1 in c:\\users\\jainh\\appdata\\local\\programs\\python\\python36\\lib\\site-packages (from jupyter-server>=1.0->jupyter-server-proxy>=1.3.2->dask-labextension) (4.3.3)\n",
      "Requirement already satisfied: Send2Trash in c:\\users\\jainh\\appdata\\local\\programs\\python\\python36\\lib\\site-packages (from jupyter-server>=1.0->jupyter-server-proxy>=1.3.2->dask-labextension) (1.5.0)\n",
      "Requirement already satisfied: prometheus-client in c:\\users\\jainh\\appdata\\local\\programs\\python\\python36\\lib\\site-packages (from jupyter-server>=1.0->jupyter-server-proxy>=1.3.2->dask-labextension) (0.7.1)\n",
      "Requirement already satisfied: multidict<7.0,>=4.5 in c:\\users\\jainh\\appdata\\local\\programs\\python\\python36\\lib\\site-packages (from aiohttp->jupyter-server-proxy>=1.3.2->dask-labextension) (5.1.0)\n",
      "Requirement already satisfied: yarl<2.0,>=1.0 in c:\\users\\jainh\\appdata\\local\\programs\\python\\python36\\lib\\site-packages (from aiohttp->jupyter-server-proxy>=1.3.2->dask-labextension) (1.6.3)\n",
      "Requirement already satisfied: idna-ssl>=1.0; python_version < \"3.7\" in c:\\users\\jainh\\appdata\\local\\programs\\python\\python36\\lib\\site-packages (from aiohttp->jupyter-server-proxy>=1.3.2->dask-labextension) (1.1.0)\n",
      "Requirement already satisfied: async-timeout<4.0,>=3.0 in c:\\users\\jainh\\appdata\\local\\programs\\python\\python36\\lib\\site-packages (from aiohttp->jupyter-server-proxy>=1.3.2->dask-labextension) (3.0.1)\n",
      "Requirement already satisfied: chardet<5.0,>=2.0 in c:\\users\\jainh\\appdata\\local\\programs\\python\\python36\\lib\\site-packages (from aiohttp->jupyter-server-proxy>=1.3.2->dask-labextension) (3.0.4)\n",
      "Requirement already satisfied: attrs>=17.3.0 in c:\\users\\jainh\\appdata\\local\\programs\\python\\python36\\lib\\site-packages (from aiohttp->jupyter-server-proxy>=1.3.2->dask-labextension) (19.1.0)\n",
      "Requirement already satisfied: six in c:\\users\\jainh\\appdata\\local\\programs\\python\\python36\\lib\\site-packages (from packaging->jupyterlab>=3.0.0->dask-labextension) (1.15.0)\n",
      "Requirement already satisfied: pyparsing>=2.0.2 in c:\\users\\jainh\\appdata\\local\\programs\\python\\python36\\lib\\site-packages (from packaging->jupyterlab>=3.0.0->dask-labextension) (2.4.7)\n",
      "Requirement already satisfied: babel in c:\\users\\jainh\\appdata\\local\\programs\\python\\python36\\lib\\site-packages (from jupyterlab-server~=2.3->jupyterlab>=3.0.0->dask-labextension) (2.9.0)\n",
      "Requirement already satisfied: requests in c:\\users\\jainh\\appdata\\local\\programs\\python\\python36\\lib\\site-packages (from jupyterlab-server~=2.3->jupyterlab>=3.0.0->dask-labextension) (2.24.0)\n",
      "Requirement already satisfied: jsonschema>=3.0.1 in c:\\users\\jainh\\appdata\\local\\programs\\python\\python36\\lib\\site-packages (from jupyterlab-server~=2.3->jupyterlab>=3.0.0->dask-labextension) (3.0.1)\n",
      "Requirement already satisfied: json5 in c:\\users\\jainh\\appdata\\local\\programs\\python\\python36\\lib\\site-packages (from jupyterlab-server~=2.3->jupyterlab>=3.0.0->dask-labextension) (0.9.5)\n",
      "Requirement already satisfied: pygments in c:\\users\\jainh\\appdata\\local\\programs\\python\\python36\\lib\\site-packages (from ipython->jupyterlab>=3.0.0->dask-labextension) (2.6.1)\n",
      "Requirement already satisfied: pickleshare in c:\\users\\jainh\\appdata\\local\\programs\\python\\python36\\lib\\site-packages (from ipython->jupyterlab>=3.0.0->dask-labextension) (0.7.5)\n",
      "Requirement already satisfied: backcall in c:\\users\\jainh\\appdata\\local\\programs\\python\\python36\\lib\\site-packages (from ipython->jupyterlab>=3.0.0->dask-labextension) (0.1.0)\n",
      "Requirement already satisfied: prompt-toolkit!=3.0.0,!=3.0.1,<3.1.0,>=2.0.0 in c:\\users\\jainh\\appdata\\local\\programs\\python\\python36\\lib\\site-packages (from ipython->jupyterlab>=3.0.0->dask-labextension) (3.0.5)\n",
      "Requirement already satisfied: colorama; sys_platform == \"win32\" in c:\\users\\jainh\\appdata\\local\\programs\\python\\python36\\lib\\site-packages (from ipython->jupyterlab>=3.0.0->dask-labextension) (0.4.3)\n",
      "Requirement already satisfied: jedi>=0.10 in c:\\users\\jainh\\appdata\\local\\programs\\python\\python36\\lib\\site-packages (from ipython->jupyterlab>=3.0.0->dask-labextension) (0.17.0)\n",
      "Requirement already satisfied: decorator in c:\\users\\jainh\\appdata\\local\\programs\\python\\python36\\lib\\site-packages (from ipython->jupyterlab>=3.0.0->dask-labextension) (4.4.2)\n",
      "Requirement already satisfied: notebook<7 in c:\\users\\jainh\\appdata\\local\\programs\\python\\python36\\lib\\site-packages (from nbclassic~=0.2->jupyterlab>=3.0.0->dask-labextension) (6.0.3)\n",
      "Requirement already satisfied: MarkupSafe>=0.23 in c:\\users\\jainh\\appdata\\local\\programs\\python\\python36\\lib\\site-packages (from jinja2>=2.10->jupyterlab>=3.0.0->dask-labextension) (1.1.1)\n",
      "Requirement already satisfied: pywinpty>=0.5; os_name == \"nt\" in c:\\users\\jainh\\appdata\\local\\programs\\python\\python36\\lib\\site-packages (from terminado>=0.8.3->jupyter-server>=1.0->jupyter-server-proxy>=1.3.2->dask-labextension) (0.5.7)\n",
      "Requirement already satisfied: defusedxml in c:\\users\\jainh\\appdata\\local\\programs\\python\\python36\\lib\\site-packages (from nbconvert->jupyter-server>=1.0->jupyter-server-proxy>=1.3.2->dask-labextension) (0.6.0)\n",
      "Requirement already satisfied: bleach in c:\\users\\jainh\\appdata\\local\\programs\\python\\python36\\lib\\site-packages (from nbconvert->jupyter-server>=1.0->jupyter-server-proxy>=1.3.2->dask-labextension) (3.1.5)\n",
      "Requirement already satisfied: mistune<2,>=0.8.1 in c:\\users\\jainh\\appdata\\local\\programs\\python\\python36\\lib\\site-packages (from nbconvert->jupyter-server>=1.0->jupyter-server-proxy>=1.3.2->dask-labextension) (0.8.4)\n",
      "Requirement already satisfied: pandocfilters>=1.4.1 in c:\\users\\jainh\\appdata\\local\\programs\\python\\python36\\lib\\site-packages (from nbconvert->jupyter-server>=1.0->jupyter-server-proxy>=1.3.2->dask-labextension) (1.4.2)\n",
      "Requirement already satisfied: entrypoints>=0.2.2 in c:\\users\\jainh\\appdata\\local\\programs\\python\\python36\\lib\\site-packages (from nbconvert->jupyter-server>=1.0->jupyter-server-proxy>=1.3.2->dask-labextension) (0.3)\n",
      "Requirement already satisfied: testpath in c:\\users\\jainh\\appdata\\local\\programs\\python\\python36\\lib\\site-packages (from nbconvert->jupyter-server>=1.0->jupyter-server-proxy>=1.3.2->dask-labextension) (0.4.4)\n",
      "Requirement already satisfied: idna>=2.8 in c:\\users\\jainh\\appdata\\local\\programs\\python\\python36\\lib\\site-packages (from anyio>=2.0.2->jupyter-server>=1.0->jupyter-server-proxy>=1.3.2->dask-labextension) (2.10)\n",
      "Requirement already satisfied: sniffio>=1.1 in c:\\users\\jainh\\appdata\\local\\programs\\python\\python36\\lib\\site-packages (from anyio>=2.0.2->jupyter-server>=1.0->jupyter-server-proxy>=1.3.2->dask-labextension) (1.2.0)\n",
      "Requirement already satisfied: dataclasses; python_version < \"3.7\" in c:\\users\\jainh\\appdata\\local\\programs\\python\\python36\\lib\\site-packages (from anyio>=2.0.2->jupyter-server>=1.0->jupyter-server-proxy>=1.3.2->dask-labextension) (0.8)\n",
      "Requirement already satisfied: async-generator; python_version < \"3.7\" in c:\\users\\jainh\\appdata\\local\\programs\\python\\python36\\lib\\site-packages (from anyio>=2.0.2->jupyter-server>=1.0->jupyter-server-proxy>=1.3.2->dask-labextension) (1.10)\n",
      "Requirement already satisfied: pytz>=2015.7 in c:\\users\\jainh\\appdata\\local\\programs\\python\\python36\\lib\\site-packages (from babel->jupyterlab-server~=2.3->jupyterlab>=3.0.0->dask-labextension) (2020.1)\n",
      "Requirement already satisfied: urllib3!=1.25.0,!=1.25.1,<1.26,>=1.21.1 in c:\\users\\jainh\\appdata\\local\\programs\\python\\python36\\lib\\site-packages (from requests->jupyterlab-server~=2.3->jupyterlab>=3.0.0->dask-labextension) (1.25.10)\n",
      "Requirement already satisfied: certifi>=2017.4.17 in c:\\users\\jainh\\appdata\\local\\programs\\python\\python36\\lib\\site-packages (from requests->jupyterlab-server~=2.3->jupyterlab>=3.0.0->dask-labextension) (2020.6.20)\n",
      "Requirement already satisfied: pyrsistent>=0.14.0 in c:\\users\\jainh\\appdata\\local\\programs\\python\\python36\\lib\\site-packages (from jsonschema>=3.0.1->jupyterlab-server~=2.3->jupyterlab>=3.0.0->dask-labextension) (0.14.11)\n",
      "Requirement already satisfied: wcwidth in c:\\users\\jainh\\appdata\\local\\programs\\python\\python36\\lib\\site-packages (from prompt-toolkit!=3.0.0,!=3.0.1,<3.1.0,>=2.0.0->ipython->jupyterlab>=3.0.0->dask-labextension) (0.1.9)\n",
      "Requirement already satisfied: parso>=0.7.0 in c:\\users\\jainh\\appdata\\local\\programs\\python\\python36\\lib\\site-packages (from jedi>=0.10->ipython->jupyterlab>=3.0.0->dask-labextension) (0.7.0)\n",
      "Requirement already satisfied: ipykernel in c:\\users\\jainh\\appdata\\local\\programs\\python\\python36\\lib\\site-packages (from notebook<7->nbclassic~=0.2->jupyterlab>=3.0.0->dask-labextension) (5.2.1)\n",
      "Requirement already satisfied: webencodings in c:\\users\\jainh\\appdata\\local\\programs\\python\\python36\\lib\\site-packages (from bleach->nbconvert->jupyter-server>=1.0->jupyter-server-proxy>=1.3.2->dask-labextension) (0.5.1)\n"
     ]
    },
    {
     "name": "stderr",
     "output_type": "stream",
     "text": [
      "WARNING: You are using pip version 20.2.4; however, version 21.0.1 is available.\n",
      "You should consider upgrading via the 'c:\\users\\jainh\\appdata\\local\\programs\\python\\python36\\python.exe -m pip install --upgrade pip' command.\n"
     ]
    }
   ],
   "source": [
    "#!pip install dask-labextension"
   ]
  },
  {
   "cell_type": "code",
   "execution_count": 4,
   "metadata": {},
   "outputs": [
    {
     "data": {
      "text/html": [
       "<table style=\"border: 2px solid white;\">\n",
       "<tr>\n",
       "<td style=\"vertical-align: top; border: 0px solid white\">\n",
       "<h3 style=\"text-align: left;\">Client</h3>\n",
       "<ul style=\"text-align: left; list-style: none; margin: 0; padding: 0;\">\n",
       "  <li><b>Scheduler: </b>inproc://10.110.229.215/17380/1</li>\n",
       "  <li><b>Dashboard: </b><a href='http://10.110.229.215:8787/status' target='_blank'>http://10.110.229.215:8787/status</a></li>\n",
       "</ul>\n",
       "</td>\n",
       "<td style=\"vertical-align: top; border: 0px solid white\">\n",
       "<h3 style=\"text-align: left;\">Cluster</h3>\n",
       "<ul style=\"text-align: left; list-style:none; margin: 0; padding: 0;\">\n",
       "  <li><b>Workers: </b>1</li>\n",
       "  <li><b>Cores: </b>4</li>\n",
       "  <li><b>Memory: </b>6.00 GB</li>\n",
       "</ul>\n",
       "</td>\n",
       "</tr>\n",
       "</table>"
      ],
      "text/plain": [
       "<Client: 'inproc://10.110.229.215/17380/1' processes=1 threads=4, memory=6.00 GB>"
      ]
     },
     "execution_count": 4,
     "metadata": {},
     "output_type": "execute_result"
    }
   ],
   "source": [
    "# Start Dask Client for Dashboard\n",
    "from dask.distributed import Client, progress\n",
    "client = Client(processes=False, threads_per_worker=4,\n",
    "                n_workers=1, memory_limit='6GB')\n",
    "client"
   ]
  },
  {
   "cell_type": "code",
   "execution_count": 6,
   "metadata": {},
   "outputs": [],
   "source": [
    "import dask.array as da\n",
    "x = da.from_array(s, chunks=(1000,1000))"
   ]
  },
  {
   "cell_type": "code",
   "execution_count": 7,
   "metadata": {},
   "outputs": [
    {
     "data": {
      "text/html": [
       "<table>\n",
       "<tr>\n",
       "<td>\n",
       "<table>\n",
       "  <thead>\n",
       "    <tr><td> </td><th> Array </th><th> Chunk </th></tr>\n",
       "  </thead>\n",
       "  <tbody>\n",
       "    <tr><th> Bytes </th><td> 160.00 kB </td> <td> 8.00 kB </td></tr>\n",
       "    <tr><th> Shape </th><td> (20000,) </td> <td> (1000,) </td></tr>\n",
       "    <tr><th> Count </th><td> 1360 Tasks </td><td> 20 Chunks </td></tr>\n",
       "    <tr><th> Type </th><td> float64 </td><td> numpy.ndarray </td></tr>\n",
       "  </tbody>\n",
       "</table>\n",
       "</td>\n",
       "<td>\n",
       "<svg width=\"170\" height=\"75\" style=\"stroke:rgb(0,0,0);stroke-width:1\" >\n",
       "\n",
       "  <!-- Horizontal lines -->\n",
       "  <line x1=\"0\" y1=\"0\" x2=\"120\" y2=\"0\" style=\"stroke-width:2\" />\n",
       "  <line x1=\"0\" y1=\"25\" x2=\"120\" y2=\"25\" style=\"stroke-width:2\" />\n",
       "\n",
       "  <!-- Vertical lines -->\n",
       "  <line x1=\"0\" y1=\"0\" x2=\"0\" y2=\"25\" style=\"stroke-width:2\" />\n",
       "  <line x1=\"6\" y1=\"0\" x2=\"6\" y2=\"25\" />\n",
       "  <line x1=\"12\" y1=\"0\" x2=\"12\" y2=\"25\" />\n",
       "  <line x1=\"18\" y1=\"0\" x2=\"18\" y2=\"25\" />\n",
       "  <line x1=\"24\" y1=\"0\" x2=\"24\" y2=\"25\" />\n",
       "  <line x1=\"30\" y1=\"0\" x2=\"30\" y2=\"25\" />\n",
       "  <line x1=\"36\" y1=\"0\" x2=\"36\" y2=\"25\" />\n",
       "  <line x1=\"42\" y1=\"0\" x2=\"42\" y2=\"25\" />\n",
       "  <line x1=\"48\" y1=\"0\" x2=\"48\" y2=\"25\" />\n",
       "  <line x1=\"54\" y1=\"0\" x2=\"54\" y2=\"25\" />\n",
       "  <line x1=\"60\" y1=\"0\" x2=\"60\" y2=\"25\" />\n",
       "  <line x1=\"66\" y1=\"0\" x2=\"66\" y2=\"25\" />\n",
       "  <line x1=\"72\" y1=\"0\" x2=\"72\" y2=\"25\" />\n",
       "  <line x1=\"78\" y1=\"0\" x2=\"78\" y2=\"25\" />\n",
       "  <line x1=\"84\" y1=\"0\" x2=\"84\" y2=\"25\" />\n",
       "  <line x1=\"90\" y1=\"0\" x2=\"90\" y2=\"25\" />\n",
       "  <line x1=\"96\" y1=\"0\" x2=\"96\" y2=\"25\" />\n",
       "  <line x1=\"102\" y1=\"0\" x2=\"102\" y2=\"25\" />\n",
       "  <line x1=\"108\" y1=\"0\" x2=\"108\" y2=\"25\" />\n",
       "  <line x1=\"120\" y1=\"0\" x2=\"120\" y2=\"25\" style=\"stroke-width:2\" />\n",
       "\n",
       "  <!-- Colored Rectangle -->\n",
       "  <polygon points=\"0.0,0.0 120.0,0.0 120.0,25.412616514582485 0.0,25.412616514582485\" style=\"fill:#8B4903A0;stroke-width:0\"/>\n",
       "\n",
       "  <!-- Text -->\n",
       "  <text x=\"60.000000\" y=\"45.412617\" font-size=\"1.0rem\" font-weight=\"100\" text-anchor=\"middle\" >20000</text>\n",
       "  <text x=\"140.000000\" y=\"12.706308\" font-size=\"1.0rem\" font-weight=\"100\" text-anchor=\"middle\" transform=\"rotate(0,140.000000,12.706308)\">1</text>\n",
       "</svg>\n",
       "</td>\n",
       "</tr>\n",
       "</table>"
      ],
      "text/plain": [
       "dask.array<mean_agg-aggregate, shape=(20000,), dtype=float64, chunksize=(1000,), chunktype=numpy.ndarray>"
      ]
     },
     "execution_count": 7,
     "metadata": {},
     "output_type": "execute_result"
    }
   ],
   "source": [
    "y= x \n",
    "z=y[::100,:].mean(axis=0)\n",
    "z"
   ]
  },
  {
   "cell_type": "code",
   "execution_count": 7,
   "metadata": {},
   "outputs": [
    {
     "data": {
      "text/plain": [
       "array([10.00031544, 10.000978  ,  9.99626887, ..., 10.01192504,\n",
       "       10.01224206,  9.99753872])"
      ]
     },
     "execution_count": 7,
     "metadata": {},
     "output_type": "execute_result"
    }
   ],
   "source": [
    "z.compute()\n"
   ]
  },
  {
   "cell_type": "code",
   "execution_count": 8,
   "metadata": {},
   "outputs": [
    {
     "name": "stdout",
     "output_type": "stream",
     "text": [
      "Wall time: 1.13 s\n"
     ]
    },
    {
     "data": {
      "text/plain": [
       "array([10.00031544, 10.000978  ,  9.99626887, ..., 10.01192504,\n",
       "       10.01224206,  9.99753872])"
      ]
     },
     "execution_count": 8,
     "metadata": {},
     "output_type": "execute_result"
    }
   ],
   "source": [
    "%time z.compute()"
   ]
  },
  {
   "cell_type": "code",
   "execution_count": null,
   "metadata": {},
   "outputs": [],
   "source": []
  }
 ],
 "metadata": {
  "kernelspec": {
   "display_name": "Python 3",
   "language": "python",
   "name": "python3"
  },
  "language_info": {
   "codemirror_mode": {
    "name": "ipython",
    "version": 3
   },
   "file_extension": ".py",
   "mimetype": "text/x-python",
   "name": "python",
   "nbconvert_exporter": "python",
   "pygments_lexer": "ipython3",
   "version": "3.6.8"
  }
 },
 "nbformat": 4,
 "nbformat_minor": 4
}
